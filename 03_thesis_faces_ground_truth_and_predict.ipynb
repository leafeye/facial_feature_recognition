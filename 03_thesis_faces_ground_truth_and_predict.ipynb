{
 "cells": [
  {
   "cell_type": "code",
   "execution_count": 1,
   "metadata": {},
   "outputs": [],
   "source": [
    "import pandas as pd\n",
    "import numpy as np\n",
    "import pickle\n",
    "import matplotlib.pyplot as plt\n",
    "import seaborn as sns\n",
    "from statistics import mode\n",
    "%matplotlib inline  "
   ]
  },
  {
   "cell_type": "code",
   "execution_count": 2,
   "metadata": {},
   "outputs": [],
   "source": [
    "from sklearn.metrics import accuracy_score\n",
    "from sklearn.metrics import confusion_matrix\n",
    "from sklearn.metrics import classification_report"
   ]
  },
  {
   "cell_type": "code",
   "execution_count": 3,
   "metadata": {},
   "outputs": [],
   "source": [
    "fr1 = pd.read_csv('csv/face_rating_1_expanded_cleaned.csv')\n",
    "fr1 = fr1.drop(columns='Unnamed: 0')\n",
    "\n",
    "fr2 = pd.read_csv('csv/face_rating_2_expanded_cleaned.csv')\n",
    "fr2 = fr2.drop(columns='Unnamed: 0')"
   ]
  },
  {
   "cell_type": "code",
   "execution_count": 152,
   "metadata": {},
   "outputs": [
    {
     "data": {
      "text/plain": [
       "Index(['completion_code', 'experimentCode', 'faceID', 'state', 'trialNumber',\n",
       "       'uniqueID', 'participant_country', 'participant_gender',\n",
       "       'participant_age', 'face_perceived_description',\n",
       "       'face_perceived_typical', 'face_perceived_attractive',\n",
       "       'face_perceived_photo-gender', 'face_perceived_race',\n",
       "       'face_perceived_age'],\n",
       "      dtype='object')"
      ]
     },
     "execution_count": 152,
     "metadata": {},
     "output_type": "execute_result"
    }
   ],
   "source": [
    "fr1.columns"
   ]
  },
  {
   "cell_type": "code",
   "execution_count": 5,
   "metadata": {},
   "outputs": [
    {
     "data": {
      "text/plain": [
       "Index(['completion_code', 'experimentCode', 'faceID', 'state', 'trialNumber',\n",
       "       'uniqueID', 'participant_country', 'participant_gender',\n",
       "       'participant_ethnicity-details', 'participant_ethnicity',\n",
       "       'participant_age', 'face_perceived_non-physical-description',\n",
       "       'face_perceived_physical-description', 'face_perceived_occupation',\n",
       "       'face_perceived_typical', 'face_perceived_attractive',\n",
       "       'face_perceived_photo-gender', 'face_perceived_ethnicity-details',\n",
       "       'face_perceived_ethnicity', 'face_perceived_eye', 'face_perceived_hair',\n",
       "       'face_perceived_age'],\n",
       "      dtype='object')"
      ]
     },
     "execution_count": 5,
     "metadata": {},
     "output_type": "execute_result"
    }
   ],
   "source": [
    "fr2.columns"
   ]
  },
  {
   "cell_type": "code",
   "execution_count": 4,
   "metadata": {},
   "outputs": [],
   "source": [
    "#only use face perception columns\n",
    "cols = ['faceID', 'face_perceived_physical-description',\n",
    "       'face_perceived_ethnicity', 'face_perceived_ethnicity-details',\n",
    "       'face_perceived_eye', 'face_perceived_hair',\n",
    "       'face_perceived_photo-gender', \n",
    "       'uniqueID']\n",
    "\n",
    "#create empty dataframe\n",
    "image_fr = pd.DataFrame(columns = cols)\n",
    "\n",
    "#add faceIDs\n",
    "image_fr['faceID'] = list(fr2.faceID.unique())\n",
    "\n",
    "\n",
    "for face in fr2.faceID.unique():\n",
    "    for col in cols[1:]:\n",
    "        col_list = fr2.loc[fr2.faceID == face, col].tolist()\n",
    "        #dont add missing values\n",
    "        col_list_no_nan = [x for x in col_list if str(x) != 'nan']\n",
    "        image_fr.loc[image_fr['faceID'] == face, col] = [col_list_no_nan]\n",
    "        "
   ]
  },
  {
   "cell_type": "code",
   "execution_count": 31,
   "metadata": {
    "scrolled": true
   },
   "outputs": [
    {
     "data": {
      "text/html": [
       "<div>\n",
       "<style scoped>\n",
       "    .dataframe tbody tr th:only-of-type {\n",
       "        vertical-align: middle;\n",
       "    }\n",
       "\n",
       "    .dataframe tbody tr th {\n",
       "        vertical-align: top;\n",
       "    }\n",
       "\n",
       "    .dataframe thead th {\n",
       "        text-align: right;\n",
       "    }\n",
       "</style>\n",
       "<table border=\"1\" class=\"dataframe\">\n",
       "  <thead>\n",
       "    <tr style=\"text-align: right;\">\n",
       "      <th></th>\n",
       "      <th>faceID</th>\n",
       "      <th>face_perceived_physical-description</th>\n",
       "      <th>face_perceived_ethnicity</th>\n",
       "      <th>face_perceived_ethnicity-details</th>\n",
       "      <th>face_perceived_eye</th>\n",
       "      <th>face_perceived_hair</th>\n",
       "      <th>face_perceived_photo-gender</th>\n",
       "      <th>uniqueID</th>\n",
       "      <th>glasses_mentioned</th>\n",
       "      <th>glasses</th>\n",
       "      <th>face_gender_mode</th>\n",
       "    </tr>\n",
       "  </thead>\n",
       "  <tbody>\n",
       "    <tr>\n",
       "      <th>0</th>\n",
       "      <td>IMG_8622</td>\n",
       "      <td>[Has beautiful eyebrows and a nice hair cut. H...</td>\n",
       "      <td>[african, african, latino, latino, african, af...</td>\n",
       "      <td>[indian, Arab, Indian/Turkish, Pakistani?, Ind...</td>\n",
       "      <td>[brown, Brown, black, black, brown, Brown, bro...</td>\n",
       "      <td>[black, Black, black, black, black, Black, bla...</td>\n",
       "      <td>[male, male, male, male, male, male, male, mal...</td>\n",
       "      <td>[85762, 71137, 3200, 998, 68096, 17150, 72782,...</td>\n",
       "      <td>0</td>\n",
       "      <td>False</td>\n",
       "      <td>male</td>\n",
       "    </tr>\n",
       "    <tr>\n",
       "      <th>1</th>\n",
       "      <td>IMG_7942</td>\n",
       "      <td>[They have short[comma] dark hair and light br...</td>\n",
       "      <td>[white, latino, african, latino, african, lati...</td>\n",
       "      <td>[Lebanese, Indian, Middle Eastern, Middle east...</td>\n",
       "      <td>[brown, brown, black, black, Brown, brown, bla...</td>\n",
       "      <td>[black, brown, black, black, Black, black, bla...</td>\n",
       "      <td>[male, male, male, male, male, male, male, mal...</td>\n",
       "      <td>[91607, 86889, 54955, 69543, 85473, 2015, 6647...</td>\n",
       "      <td>7</td>\n",
       "      <td>True</td>\n",
       "      <td>male</td>\n",
       "    </tr>\n",
       "    <tr>\n",
       "      <th>2</th>\n",
       "      <td>IMG_0401</td>\n",
       "      <td>[This is an Asian guy in his 20s. He has short...</td>\n",
       "      <td>[african, african, african, african, african, ...</td>\n",
       "      <td>[]</td>\n",
       "      <td>[black, Brown, brown, brown, brown, black]</td>\n",
       "      <td>[black, Black, black, black, black, black]</td>\n",
       "      <td>[male, male, male, male, male, male]</td>\n",
       "      <td>[60735, 79320, 48785, 83315, 82981, 66029]</td>\n",
       "      <td>0</td>\n",
       "      <td>False</td>\n",
       "      <td>male</td>\n",
       "    </tr>\n",
       "    <tr>\n",
       "      <th>3</th>\n",
       "      <td>IMG_0018</td>\n",
       "      <td>[This person has a crew cut with dirty blonde ...</td>\n",
       "      <td>[white, white, white, white, white, white, whi...</td>\n",
       "      <td>[]</td>\n",
       "      <td>[Blue, Green, blue, brown, blue, blue, green, ...</td>\n",
       "      <td>[Blonde, Blonde, blonde, blonde, dirty blonde,...</td>\n",
       "      <td>[male, male, male, male, male, male, male, mal...</td>\n",
       "      <td>[77802, 25131, 32678, 94238, 72285, 47710, 731...</td>\n",
       "      <td>0</td>\n",
       "      <td>False</td>\n",
       "      <td>male</td>\n",
       "    </tr>\n",
       "    <tr>\n",
       "      <th>4</th>\n",
       "      <td>IMG_0777</td>\n",
       "      <td>[long hair combed over all emo like. a beard t...</td>\n",
       "      <td>[white, white, white, white, white, white, whi...</td>\n",
       "      <td>[]</td>\n",
       "      <td>[brown, Brown, green, black, green, black, bro...</td>\n",
       "      <td>[brown, Brown, Brown, black, brown, brown, bro...</td>\n",
       "      <td>[male, male, male, male, male, male, male, mal...</td>\n",
       "      <td>[85056, 33585, 47691, 998, 84607, 91079, 37044...</td>\n",
       "      <td>0</td>\n",
       "      <td>False</td>\n",
       "      <td>male</td>\n",
       "    </tr>\n",
       "  </tbody>\n",
       "</table>\n",
       "</div>"
      ],
      "text/plain": [
       "     faceID                face_perceived_physical-description  \\\n",
       "0  IMG_8622  [Has beautiful eyebrows and a nice hair cut. H...   \n",
       "1  IMG_7942  [They have short[comma] dark hair and light br...   \n",
       "2  IMG_0401  [This is an Asian guy in his 20s. He has short...   \n",
       "3  IMG_0018  [This person has a crew cut with dirty blonde ...   \n",
       "4  IMG_0777  [long hair combed over all emo like. a beard t...   \n",
       "\n",
       "                            face_perceived_ethnicity  \\\n",
       "0  [african, african, latino, latino, african, af...   \n",
       "1  [white, latino, african, latino, african, lati...   \n",
       "2  [african, african, african, african, african, ...   \n",
       "3  [white, white, white, white, white, white, whi...   \n",
       "4  [white, white, white, white, white, white, whi...   \n",
       "\n",
       "                    face_perceived_ethnicity-details  \\\n",
       "0  [indian, Arab, Indian/Turkish, Pakistani?, Ind...   \n",
       "1  [Lebanese, Indian, Middle Eastern, Middle east...   \n",
       "2                                                 []   \n",
       "3                                                 []   \n",
       "4                                                 []   \n",
       "\n",
       "                                  face_perceived_eye  \\\n",
       "0  [brown, Brown, black, black, brown, Brown, bro...   \n",
       "1  [brown, brown, black, black, Brown, brown, bla...   \n",
       "2         [black, Brown, brown, brown, brown, black]   \n",
       "3  [Blue, Green, blue, brown, blue, blue, green, ...   \n",
       "4  [brown, Brown, green, black, green, black, bro...   \n",
       "\n",
       "                                 face_perceived_hair  \\\n",
       "0  [black, Black, black, black, black, Black, bla...   \n",
       "1  [black, brown, black, black, Black, black, bla...   \n",
       "2         [black, Black, black, black, black, black]   \n",
       "3  [Blonde, Blonde, blonde, blonde, dirty blonde,...   \n",
       "4  [brown, Brown, Brown, black, brown, brown, bro...   \n",
       "\n",
       "                         face_perceived_photo-gender  \\\n",
       "0  [male, male, male, male, male, male, male, mal...   \n",
       "1  [male, male, male, male, male, male, male, mal...   \n",
       "2               [male, male, male, male, male, male]   \n",
       "3  [male, male, male, male, male, male, male, mal...   \n",
       "4  [male, male, male, male, male, male, male, mal...   \n",
       "\n",
       "                                            uniqueID  glasses_mentioned  \\\n",
       "0  [85762, 71137, 3200, 998, 68096, 17150, 72782,...                  0   \n",
       "1  [91607, 86889, 54955, 69543, 85473, 2015, 6647...                  7   \n",
       "2         [60735, 79320, 48785, 83315, 82981, 66029]                  0   \n",
       "3  [77802, 25131, 32678, 94238, 72285, 47710, 731...                  0   \n",
       "4  [85056, 33585, 47691, 998, 84607, 91079, 37044...                  0   \n",
       "\n",
       "   glasses face_gender_mode  \n",
       "0    False             male  \n",
       "1     True             male  \n",
       "2    False             male  \n",
       "3    False             male  \n",
       "4    False             male  "
      ]
     },
     "execution_count": 31,
     "metadata": {},
     "output_type": "execute_result"
    }
   ],
   "source": [
    "image_fr.head()"
   ]
  },
  {
   "cell_type": "code",
   "execution_count": 21,
   "metadata": {},
   "outputs": [],
   "source": [
    "#gender\n",
    "image_fr['face_gender_mode'] = image_fr['face_perceived_photo-gender'].map(mode)"
   ]
  },
  {
   "cell_type": "code",
   "execution_count": 22,
   "metadata": {},
   "outputs": [],
   "source": [
    "thesis_gender_labels = image_fr[['faceID', 'face_gender_mode']].sort_values('faceID').reset_index().drop(columns='index')"
   ]
  },
  {
   "cell_type": "code",
   "execution_count": 23,
   "metadata": {},
   "outputs": [
    {
     "data": {
      "text/html": [
       "<div>\n",
       "<style scoped>\n",
       "    .dataframe tbody tr th:only-of-type {\n",
       "        vertical-align: middle;\n",
       "    }\n",
       "\n",
       "    .dataframe tbody tr th {\n",
       "        vertical-align: top;\n",
       "    }\n",
       "\n",
       "    .dataframe thead th {\n",
       "        text-align: right;\n",
       "    }\n",
       "</style>\n",
       "<table border=\"1\" class=\"dataframe\">\n",
       "  <thead>\n",
       "    <tr style=\"text-align: right;\">\n",
       "      <th></th>\n",
       "      <th>faceID</th>\n",
       "      <th>face_gender_mode</th>\n",
       "    </tr>\n",
       "  </thead>\n",
       "  <tbody>\n",
       "    <tr>\n",
       "      <th>0</th>\n",
       "      <td>IMG_0003</td>\n",
       "      <td>female</td>\n",
       "    </tr>\n",
       "    <tr>\n",
       "      <th>1</th>\n",
       "      <td>IMG_0018</td>\n",
       "      <td>male</td>\n",
       "    </tr>\n",
       "    <tr>\n",
       "      <th>2</th>\n",
       "      <td>IMG_0033</td>\n",
       "      <td>male</td>\n",
       "    </tr>\n",
       "  </tbody>\n",
       "</table>\n",
       "</div>"
      ],
      "text/plain": [
       "     faceID face_gender_mode\n",
       "0  IMG_0003           female\n",
       "1  IMG_0018             male\n",
       "2  IMG_0033             male"
      ]
     },
     "execution_count": 23,
     "metadata": {},
     "output_type": "execute_result"
    }
   ],
   "source": [
    "thesis_gender_labels.head(3)"
   ]
  },
  {
   "cell_type": "code",
   "execution_count": 24,
   "metadata": {},
   "outputs": [],
   "source": [
    "thesis_gender_labels['male'] = np.where(thesis_gender_labels['face_gender_mode']=='male', 1, 0)"
   ]
  },
  {
   "cell_type": "code",
   "execution_count": 25,
   "metadata": {},
   "outputs": [
    {
     "data": {
      "text/html": [
       "<div>\n",
       "<style scoped>\n",
       "    .dataframe tbody tr th:only-of-type {\n",
       "        vertical-align: middle;\n",
       "    }\n",
       "\n",
       "    .dataframe tbody tr th {\n",
       "        vertical-align: top;\n",
       "    }\n",
       "\n",
       "    .dataframe thead th {\n",
       "        text-align: right;\n",
       "    }\n",
       "</style>\n",
       "<table border=\"1\" class=\"dataframe\">\n",
       "  <thead>\n",
       "    <tr style=\"text-align: right;\">\n",
       "      <th></th>\n",
       "      <th>faceID</th>\n",
       "      <th>face_gender_mode</th>\n",
       "      <th>male</th>\n",
       "    </tr>\n",
       "  </thead>\n",
       "  <tbody>\n",
       "    <tr>\n",
       "      <th>0</th>\n",
       "      <td>IMG_0003</td>\n",
       "      <td>female</td>\n",
       "      <td>0</td>\n",
       "    </tr>\n",
       "    <tr>\n",
       "      <th>1</th>\n",
       "      <td>IMG_0018</td>\n",
       "      <td>male</td>\n",
       "      <td>1</td>\n",
       "    </tr>\n",
       "    <tr>\n",
       "      <th>2</th>\n",
       "      <td>IMG_0033</td>\n",
       "      <td>male</td>\n",
       "      <td>1</td>\n",
       "    </tr>\n",
       "  </tbody>\n",
       "</table>\n",
       "</div>"
      ],
      "text/plain": [
       "     faceID face_gender_mode  male\n",
       "0  IMG_0003           female     0\n",
       "1  IMG_0018             male     1\n",
       "2  IMG_0033             male     1"
      ]
     },
     "execution_count": 25,
     "metadata": {},
     "output_type": "execute_result"
    }
   ],
   "source": [
    "thesis_gender_labels.head(3)"
   ]
  },
  {
   "cell_type": "code",
   "execution_count": 5,
   "metadata": {},
   "outputs": [],
   "source": [
    "thesis_embeddings = pd.read_csv('thesis_face_embeddings/guess_who_embeddings_pandas.csv')"
   ]
  },
  {
   "cell_type": "code",
   "execution_count": 22,
   "metadata": {},
   "outputs": [
    {
     "data": {
      "text/html": [
       "<div>\n",
       "<style scoped>\n",
       "    .dataframe tbody tr th:only-of-type {\n",
       "        vertical-align: middle;\n",
       "    }\n",
       "\n",
       "    .dataframe tbody tr th {\n",
       "        vertical-align: top;\n",
       "    }\n",
       "\n",
       "    .dataframe thead th {\n",
       "        text-align: right;\n",
       "    }\n",
       "</style>\n",
       "<table border=\"1\" class=\"dataframe\">\n",
       "  <thead>\n",
       "    <tr style=\"text-align: right;\">\n",
       "      <th></th>\n",
       "      <th>encodings</th>\n",
       "      <th>faceID</th>\n",
       "    </tr>\n",
       "  </thead>\n",
       "  <tbody>\n",
       "    <tr>\n",
       "      <th>0</th>\n",
       "      <td>[-0.05808836  0.03249508  0.14888    -0.041770...</td>\n",
       "      <td>IMG_0003.JPG</td>\n",
       "    </tr>\n",
       "    <tr>\n",
       "      <th>1</th>\n",
       "      <td>[-0.13564467  0.12020294  0.005176   -0.056101...</td>\n",
       "      <td>IMG_0018.JPG</td>\n",
       "    </tr>\n",
       "  </tbody>\n",
       "</table>\n",
       "</div>"
      ],
      "text/plain": [
       "                                           encodings        faceID\n",
       "0  [-0.05808836  0.03249508  0.14888    -0.041770...  IMG_0003.JPG\n",
       "1  [-0.13564467  0.12020294  0.005176   -0.056101...  IMG_0018.JPG"
      ]
     },
     "execution_count": 22,
     "metadata": {},
     "output_type": "execute_result"
    }
   ],
   "source": [
    "thesis_embeddings.head(2)"
   ]
  },
  {
   "cell_type": "code",
   "execution_count": 6,
   "metadata": {},
   "outputs": [],
   "source": [
    "emb = thesis_embeddings.encodings\n",
    "\n",
    "emb = (emb\n",
    " .str.replace('\\n','')\n",
    " .str.replace('\\r','')\n",
    " .str.replace('[','')\n",
    " .str.replace(']','')\n",
    " .str.split())\n",
    "\n",
    "emb_lists = emb.tolist()\n",
    "\n",
    "celeb_emb_npy = np.asarray(emb_lists)\n",
    "\n",
    "celeb_emb_npy = celeb_emb_npy.astype(np.float)"
   ]
  },
  {
   "cell_type": "code",
   "execution_count": 26,
   "metadata": {},
   "outputs": [
    {
     "data": {
      "text/plain": [
       "array([0, 1, 1, 0, 1, 1, 1, 0, 1, 1, 0, 0, 0, 0, 1, 0, 0, 0, 0, 0, 1, 1,\n",
       "       1, 1, 1, 0, 1, 0, 1, 1, 0, 0, 0, 0, 1, 1, 0, 1, 1, 1, 1, 0, 0, 1,\n",
       "       1, 0, 0, 0, 1, 1, 1, 1, 0, 0, 1, 0, 0, 1, 0, 1, 0, 1, 1, 0, 1, 0,\n",
       "       0, 1, 1, 1, 0, 1, 0, 0, 0, 0, 1, 1, 0, 0, 1, 0, 0, 1, 1, 0, 1, 1,\n",
       "       1, 1, 1, 1, 1, 0, 1, 1, 0, 1, 1, 0, 0, 1, 1, 0, 1, 1, 1, 1, 0, 0,\n",
       "       1, 1, 1, 1, 0, 0, 0, 0, 0, 0, 0, 0, 0, 1, 1, 0, 1, 1, 1, 1, 1, 0,\n",
       "       0, 1, 1, 1, 0, 0, 1, 1, 1, 0, 0, 1, 1, 0, 1, 1, 0, 1, 1, 1, 0, 0,\n",
       "       0, 0, 0, 1, 0, 0, 0, 1, 0, 0, 1, 0, 0, 1, 0, 1, 1, 0, 1, 1, 1, 1,\n",
       "       1, 0, 0, 1, 1, 0, 0, 0, 0, 1, 0, 0, 0, 0, 1, 0, 0])"
      ]
     },
     "execution_count": 26,
     "metadata": {},
     "output_type": "execute_result"
    }
   ],
   "source": [
    "thesis_gender_labels.male.values"
   ]
  },
  {
   "cell_type": "code",
   "execution_count": 27,
   "metadata": {},
   "outputs": [],
   "source": [
    "X_test = celeb_emb_npy\n",
    "y_test = thesis_gender_labels.male.values"
   ]
  },
  {
   "cell_type": "code",
   "execution_count": 79,
   "metadata": {},
   "outputs": [
    {
     "name": "stderr",
     "output_type": "stream",
     "text": [
      "C:\\Users\\Paradigit\\Anaconda3\\lib\\site-packages\\sklearn\\base.py:311: UserWarning: Trying to unpickle estimator SGDClassifier from version 0.20.3 when using version 0.19.1. This might lead to breaking code or invalid results. Use at your own risk.\n",
      "  UserWarning)\n"
     ]
    },
    {
     "name": "stdout",
     "output_type": "stream",
     "text": [
      "0.9585492227979274\n"
     ]
    }
   ],
   "source": [
    "loaded_model = pickle.load(open('celeba/gender_model.sav', 'rb'))\n",
    "result = loaded_model.score(X_test, y_test)\n",
    "print(result)"
   ]
  },
  {
   "cell_type": "code",
   "execution_count": 82,
   "metadata": {},
   "outputs": [
    {
     "name": "stdout",
     "output_type": "stream",
     "text": [
      "0.959\n",
      "             precision    recall  f1-score   support\n",
      "\n",
      "          0       1.00      0.91      0.96        94\n",
      "          1       0.93      1.00      0.96        99\n",
      "\n",
      "avg / total       0.96      0.96      0.96       193\n",
      "\n",
      "[[86  8]\n",
      " [ 0 99]]\n"
     ]
    }
   ],
   "source": [
    "y_pred = loaded_model.predict(X_test)\n",
    "print(\"{:.3}\".format(accuracy_score(y_test, y_pred)))\n",
    "\n",
    "print(classification_report(y_test,y_pred))\n",
    "\n",
    "print(confusion_matrix(y_test,y_pred))"
   ]
  },
  {
   "cell_type": "code",
   "execution_count": 84,
   "metadata": {},
   "outputs": [],
   "source": [
    "thesis_gender_labels['pred'] = y_pred"
   ]
  },
  {
   "cell_type": "code",
   "execution_count": 87,
   "metadata": {},
   "outputs": [
    {
     "data": {
      "text/html": [
       "<div>\n",
       "<style scoped>\n",
       "    .dataframe tbody tr th:only-of-type {\n",
       "        vertical-align: middle;\n",
       "    }\n",
       "\n",
       "    .dataframe tbody tr th {\n",
       "        vertical-align: top;\n",
       "    }\n",
       "\n",
       "    .dataframe thead th {\n",
       "        text-align: right;\n",
       "    }\n",
       "</style>\n",
       "<table border=\"1\" class=\"dataframe\">\n",
       "  <thead>\n",
       "    <tr style=\"text-align: right;\">\n",
       "      <th></th>\n",
       "      <th>faceID</th>\n",
       "      <th>face_gender_mode</th>\n",
       "      <th>male</th>\n",
       "      <th>pred</th>\n",
       "    </tr>\n",
       "  </thead>\n",
       "  <tbody>\n",
       "    <tr>\n",
       "      <th>0</th>\n",
       "      <td>IMG_0003</td>\n",
       "      <td>female</td>\n",
       "      <td>0</td>\n",
       "      <td>0</td>\n",
       "    </tr>\n",
       "    <tr>\n",
       "      <th>1</th>\n",
       "      <td>IMG_0018</td>\n",
       "      <td>male</td>\n",
       "      <td>1</td>\n",
       "      <td>1</td>\n",
       "    </tr>\n",
       "    <tr>\n",
       "      <th>2</th>\n",
       "      <td>IMG_0033</td>\n",
       "      <td>male</td>\n",
       "      <td>1</td>\n",
       "      <td>1</td>\n",
       "    </tr>\n",
       "    <tr>\n",
       "      <th>3</th>\n",
       "      <td>IMG_0048</td>\n",
       "      <td>female</td>\n",
       "      <td>0</td>\n",
       "      <td>0</td>\n",
       "    </tr>\n",
       "    <tr>\n",
       "      <th>4</th>\n",
       "      <td>IMG_0063</td>\n",
       "      <td>male</td>\n",
       "      <td>1</td>\n",
       "      <td>1</td>\n",
       "    </tr>\n",
       "  </tbody>\n",
       "</table>\n",
       "</div>"
      ],
      "text/plain": [
       "     faceID face_gender_mode  male  pred\n",
       "0  IMG_0003           female     0     0\n",
       "1  IMG_0018             male     1     1\n",
       "2  IMG_0033             male     1     1\n",
       "3  IMG_0048           female     0     0\n",
       "4  IMG_0063             male     1     1"
      ]
     },
     "execution_count": 87,
     "metadata": {},
     "output_type": "execute_result"
    }
   ],
   "source": [
    "thesis_gender_labels.head()"
   ]
  },
  {
   "cell_type": "code",
   "execution_count": 98,
   "metadata": {},
   "outputs": [],
   "source": [
    "thesis_gender_labels['correct'] = thesis_gender_labels.male == thesis_gender_labels.pred"
   ]
  },
  {
   "cell_type": "code",
   "execution_count": 100,
   "metadata": {},
   "outputs": [
    {
     "data": {
      "text/html": [
       "<div>\n",
       "<style scoped>\n",
       "    .dataframe tbody tr th:only-of-type {\n",
       "        vertical-align: middle;\n",
       "    }\n",
       "\n",
       "    .dataframe tbody tr th {\n",
       "        vertical-align: top;\n",
       "    }\n",
       "\n",
       "    .dataframe thead th {\n",
       "        text-align: right;\n",
       "    }\n",
       "</style>\n",
       "<table border=\"1\" class=\"dataframe\">\n",
       "  <thead>\n",
       "    <tr style=\"text-align: right;\">\n",
       "      <th></th>\n",
       "      <th>faceID</th>\n",
       "      <th>face_gender_mode</th>\n",
       "      <th>male</th>\n",
       "      <th>pred</th>\n",
       "      <th>correct</th>\n",
       "    </tr>\n",
       "  </thead>\n",
       "  <tbody>\n",
       "    <tr>\n",
       "      <th>0</th>\n",
       "      <td>IMG_0003</td>\n",
       "      <td>female</td>\n",
       "      <td>0</td>\n",
       "      <td>0</td>\n",
       "      <td>True</td>\n",
       "    </tr>\n",
       "    <tr>\n",
       "      <th>1</th>\n",
       "      <td>IMG_0018</td>\n",
       "      <td>male</td>\n",
       "      <td>1</td>\n",
       "      <td>1</td>\n",
       "      <td>True</td>\n",
       "    </tr>\n",
       "    <tr>\n",
       "      <th>2</th>\n",
       "      <td>IMG_0033</td>\n",
       "      <td>male</td>\n",
       "      <td>1</td>\n",
       "      <td>1</td>\n",
       "      <td>True</td>\n",
       "    </tr>\n",
       "  </tbody>\n",
       "</table>\n",
       "</div>"
      ],
      "text/plain": [
       "     faceID face_gender_mode  male  pred  correct\n",
       "0  IMG_0003           female     0     0     True\n",
       "1  IMG_0018             male     1     1     True\n",
       "2  IMG_0033             male     1     1     True"
      ]
     },
     "execution_count": 100,
     "metadata": {},
     "output_type": "execute_result"
    }
   ],
   "source": [
    "thesis_gender_labels.head(3)"
   ]
  },
  {
   "cell_type": "code",
   "execution_count": 101,
   "metadata": {},
   "outputs": [
    {
     "data": {
      "text/html": [
       "<div>\n",
       "<style scoped>\n",
       "    .dataframe tbody tr th:only-of-type {\n",
       "        vertical-align: middle;\n",
       "    }\n",
       "\n",
       "    .dataframe tbody tr th {\n",
       "        vertical-align: top;\n",
       "    }\n",
       "\n",
       "    .dataframe thead th {\n",
       "        text-align: right;\n",
       "    }\n",
       "</style>\n",
       "<table border=\"1\" class=\"dataframe\">\n",
       "  <thead>\n",
       "    <tr style=\"text-align: right;\">\n",
       "      <th></th>\n",
       "      <th>faceID</th>\n",
       "      <th>face_gender_mode</th>\n",
       "      <th>male</th>\n",
       "      <th>pred</th>\n",
       "      <th>correct</th>\n",
       "    </tr>\n",
       "  </thead>\n",
       "  <tbody>\n",
       "    <tr>\n",
       "      <th>17</th>\n",
       "      <td>IMG_0295</td>\n",
       "      <td>female</td>\n",
       "      <td>0</td>\n",
       "      <td>1</td>\n",
       "      <td>False</td>\n",
       "    </tr>\n",
       "    <tr>\n",
       "      <th>75</th>\n",
       "      <td>IMG_7866</td>\n",
       "      <td>female</td>\n",
       "      <td>0</td>\n",
       "      <td>1</td>\n",
       "      <td>False</td>\n",
       "    </tr>\n",
       "    <tr>\n",
       "      <th>116</th>\n",
       "      <td>IMG_8697</td>\n",
       "      <td>female</td>\n",
       "      <td>0</td>\n",
       "      <td>1</td>\n",
       "      <td>False</td>\n",
       "    </tr>\n",
       "    <tr>\n",
       "      <th>125</th>\n",
       "      <td>IMG_8934</td>\n",
       "      <td>female</td>\n",
       "      <td>0</td>\n",
       "      <td>1</td>\n",
       "      <td>False</td>\n",
       "    </tr>\n",
       "    <tr>\n",
       "      <th>165</th>\n",
       "      <td>IMG_9574</td>\n",
       "      <td>female</td>\n",
       "      <td>0</td>\n",
       "      <td>1</td>\n",
       "      <td>False</td>\n",
       "    </tr>\n",
       "    <tr>\n",
       "      <th>166</th>\n",
       "      <td>IMG_9589</td>\n",
       "      <td>female</td>\n",
       "      <td>0</td>\n",
       "      <td>1</td>\n",
       "      <td>False</td>\n",
       "    </tr>\n",
       "    <tr>\n",
       "      <th>191</th>\n",
       "      <td>IMG_9977</td>\n",
       "      <td>female</td>\n",
       "      <td>0</td>\n",
       "      <td>1</td>\n",
       "      <td>False</td>\n",
       "    </tr>\n",
       "    <tr>\n",
       "      <th>192</th>\n",
       "      <td>IMG_9987</td>\n",
       "      <td>female</td>\n",
       "      <td>0</td>\n",
       "      <td>1</td>\n",
       "      <td>False</td>\n",
       "    </tr>\n",
       "  </tbody>\n",
       "</table>\n",
       "</div>"
      ],
      "text/plain": [
       "       faceID face_gender_mode  male  pred  correct\n",
       "17   IMG_0295           female     0     1    False\n",
       "75   IMG_7866           female     0     1    False\n",
       "116  IMG_8697           female     0     1    False\n",
       "125  IMG_8934           female     0     1    False\n",
       "165  IMG_9574           female     0     1    False\n",
       "166  IMG_9589           female     0     1    False\n",
       "191  IMG_9977           female     0     1    False\n",
       "192  IMG_9987           female     0     1    False"
      ]
     },
     "execution_count": 101,
     "metadata": {},
     "output_type": "execute_result"
    }
   ],
   "source": [
    "thesis_gender_labels[thesis_gender_labels.correct == False]"
   ]
  },
  {
   "cell_type": "code",
   "execution_count": 29,
   "metadata": {},
   "outputs": [],
   "source": [
    "gender_keras_model = loaded_model = pickle.load(open('celeba/gender_keras_model.sav', 'rb'))"
   ]
  },
  {
   "cell_type": "code",
   "execution_count": 30,
   "metadata": {},
   "outputs": [
    {
     "name": "stdout",
     "output_type": "stream",
     "text": [
      "0.959\n",
      "             precision    recall  f1-score   support\n",
      "\n",
      "          0       1.00      0.91      0.96        94\n",
      "          1       0.93      1.00      0.96        99\n",
      "\n",
      "avg / total       0.96      0.96      0.96       193\n",
      "\n",
      "[[86  8]\n",
      " [ 0 99]]\n"
     ]
    }
   ],
   "source": [
    "y_pred = gender_keras_model.predict(X_test)\n",
    "y_pred = (y_pred > 0.5)\n",
    "print(\"{:.3}\".format(accuracy_score(y_test, y_pred)))\n",
    "\n",
    "print(classification_report(y_test,y_pred))\n",
    "\n",
    "print(confusion_matrix(y_test,y_pred))"
   ]
  },
  {
   "cell_type": "markdown",
   "metadata": {},
   "source": [
    "# glass"
   ]
  },
  {
   "cell_type": "code",
   "execution_count": 112,
   "metadata": {},
   "outputs": [
    {
     "data": {
      "text/plain": [
       "0    [Hispanic female in her early to mid thirties ...\n",
       "1    [Chiseled jawline [comma] neatly groomed beard...\n",
       "2    [They have a high forehead a short trimmed bea...\n",
       "3    [handsome and brown hair and brown eyes and ta...\n",
       "4    [Pretty looking.soft nature. i think she is a ...\n",
       "Name: face_perceived_physical-description, dtype: object"
      ]
     },
     "execution_count": 112,
     "metadata": {},
     "output_type": "execute_result"
    }
   ],
   "source": [
    "image_fr['face_perceived_physical-description'].head()"
   ]
  },
  {
   "cell_type": "code",
   "execution_count": 117,
   "metadata": {},
   "outputs": [
    {
     "data": {
      "text/plain": [
       "['Hispanic female in her early to mid thirties with long brown hair past the shoulders and brown eyes. ',\n",
       " 'Attractive hispanic female with brown eyes and brown hair. Has nice skin and hair. She is physically fit',\n",
       " 'She has long brown hair and dramatic eye brows[comma] smooth light brown skin with full lips. Skinny and tall.',\n",
       " 'She is medium skin color[comma] average weight[comma] large breasted[comma] and below average height.',\n",
       " 'Looks so fit in her physical appearance. her black hair combed as loosen free hair. Her lips looking as almost smiling. ',\n",
       " 'She has shoulder length dark hard and is a white woman.',\n",
       " 'looks to be 62-67 inches tall. Slim body type. Pretty face. ',\n",
       " \"5'4''[comma] thin[comma] long hair and beautiful. She has a particular eye piercing gaze that's both wonderful and frightening.\"]"
      ]
     },
     "execution_count": 117,
     "metadata": {},
     "output_type": "execute_result"
    }
   ],
   "source": [
    "image_fr['face_perceived_physical-description'].iloc[0]"
   ]
  },
  {
   "cell_type": "code",
   "execution_count": 7,
   "metadata": {},
   "outputs": [],
   "source": [
    "def glass_count(lst):\n",
    "    count = 0\n",
    "    for s in lst:\n",
    "        if 'glass' in s:\n",
    "            count += 1\n",
    "    return count"
   ]
  },
  {
   "cell_type": "code",
   "execution_count": 8,
   "metadata": {},
   "outputs": [],
   "source": [
    "image_fr['glasses_mentioned'] = image_fr['face_perceived_physical-description'].map(glass_count)"
   ]
  },
  {
   "cell_type": "code",
   "execution_count": 9,
   "metadata": {},
   "outputs": [],
   "source": [
    "image_fr['glasses'] = image_fr.glasses_mentioned > 1"
   ]
  },
  {
   "cell_type": "code",
   "execution_count": 14,
   "metadata": {},
   "outputs": [
    {
     "data": {
      "text/html": [
       "<div>\n",
       "<style scoped>\n",
       "    .dataframe tbody tr th:only-of-type {\n",
       "        vertical-align: middle;\n",
       "    }\n",
       "\n",
       "    .dataframe tbody tr th {\n",
       "        vertical-align: top;\n",
       "    }\n",
       "\n",
       "    .dataframe thead th {\n",
       "        text-align: right;\n",
       "    }\n",
       "</style>\n",
       "<table border=\"1\" class=\"dataframe\">\n",
       "  <thead>\n",
       "    <tr style=\"text-align: right;\">\n",
       "      <th></th>\n",
       "      <th>faceID</th>\n",
       "      <th>face_perceived_physical-description</th>\n",
       "      <th>face_perceived_ethnicity</th>\n",
       "      <th>face_perceived_ethnicity-details</th>\n",
       "      <th>face_perceived_eye</th>\n",
       "      <th>face_perceived_hair</th>\n",
       "      <th>face_perceived_photo-gender</th>\n",
       "      <th>uniqueID</th>\n",
       "      <th>glasses_mentioned</th>\n",
       "      <th>glasses</th>\n",
       "    </tr>\n",
       "  </thead>\n",
       "  <tbody>\n",
       "    <tr>\n",
       "      <th>0</th>\n",
       "      <td>IMG_8622</td>\n",
       "      <td>[Has beautiful eyebrows and a nice hair cut. H...</td>\n",
       "      <td>[african, african, latino, latino, african, af...</td>\n",
       "      <td>[indian, Arab, Indian/Turkish, Pakistani?, Ind...</td>\n",
       "      <td>[brown, Brown, black, black, brown, Brown, bro...</td>\n",
       "      <td>[black, Black, black, black, black, Black, bla...</td>\n",
       "      <td>[male, male, male, male, male, male, male, mal...</td>\n",
       "      <td>[85762, 71137, 3200, 998, 68096, 17150, 72782,...</td>\n",
       "      <td>0</td>\n",
       "      <td>False</td>\n",
       "    </tr>\n",
       "    <tr>\n",
       "      <th>1</th>\n",
       "      <td>IMG_7942</td>\n",
       "      <td>[They have short[comma] dark hair and light br...</td>\n",
       "      <td>[white, latino, african, latino, african, lati...</td>\n",
       "      <td>[Lebanese, Indian, Middle Eastern, Middle east...</td>\n",
       "      <td>[brown, brown, black, black, Brown, brown, bla...</td>\n",
       "      <td>[black, brown, black, black, Black, black, bla...</td>\n",
       "      <td>[male, male, male, male, male, male, male, mal...</td>\n",
       "      <td>[91607, 86889, 54955, 69543, 85473, 2015, 6647...</td>\n",
       "      <td>7</td>\n",
       "      <td>True</td>\n",
       "    </tr>\n",
       "  </tbody>\n",
       "</table>\n",
       "</div>"
      ],
      "text/plain": [
       "     faceID                face_perceived_physical-description  \\\n",
       "0  IMG_8622  [Has beautiful eyebrows and a nice hair cut. H...   \n",
       "1  IMG_7942  [They have short[comma] dark hair and light br...   \n",
       "\n",
       "                            face_perceived_ethnicity  \\\n",
       "0  [african, african, latino, latino, african, af...   \n",
       "1  [white, latino, african, latino, african, lati...   \n",
       "\n",
       "                    face_perceived_ethnicity-details  \\\n",
       "0  [indian, Arab, Indian/Turkish, Pakistani?, Ind...   \n",
       "1  [Lebanese, Indian, Middle Eastern, Middle east...   \n",
       "\n",
       "                                  face_perceived_eye  \\\n",
       "0  [brown, Brown, black, black, brown, Brown, bro...   \n",
       "1  [brown, brown, black, black, Brown, brown, bla...   \n",
       "\n",
       "                                 face_perceived_hair  \\\n",
       "0  [black, Black, black, black, black, Black, bla...   \n",
       "1  [black, brown, black, black, Black, black, bla...   \n",
       "\n",
       "                         face_perceived_photo-gender  \\\n",
       "0  [male, male, male, male, male, male, male, mal...   \n",
       "1  [male, male, male, male, male, male, male, mal...   \n",
       "\n",
       "                                            uniqueID  glasses_mentioned  \\\n",
       "0  [85762, 71137, 3200, 998, 68096, 17150, 72782,...                  0   \n",
       "1  [91607, 86889, 54955, 69543, 85473, 2015, 6647...                  7   \n",
       "\n",
       "   glasses  \n",
       "0    False  \n",
       "1     True  "
      ]
     },
     "execution_count": 14,
     "metadata": {},
     "output_type": "execute_result"
    }
   ],
   "source": [
    "image_fr.head(2)"
   ]
  },
  {
   "cell_type": "code",
   "execution_count": 10,
   "metadata": {},
   "outputs": [],
   "source": [
    "thesis_glas_labels = image_fr[['faceID', 'glasses']].sort_values('faceID').reset_index().drop(columns='index')"
   ]
  },
  {
   "cell_type": "code",
   "execution_count": 11,
   "metadata": {},
   "outputs": [
    {
     "data": {
      "text/plain": [
       "False    169\n",
       "True      24\n",
       "Name: glasses, dtype: int64"
      ]
     },
     "execution_count": 11,
     "metadata": {},
     "output_type": "execute_result"
    }
   ],
   "source": [
    "thesis_glas_labels.glasses.value_counts()"
   ]
  },
  {
   "cell_type": "code",
   "execution_count": 12,
   "metadata": {},
   "outputs": [],
   "source": [
    "thesis_glas_labels['y_test'] = np.where(thesis_glas_labels['glasses']==True, 1, 0)"
   ]
  },
  {
   "cell_type": "code",
   "execution_count": 18,
   "metadata": {},
   "outputs": [
    {
     "data": {
      "text/html": [
       "<div>\n",
       "<style scoped>\n",
       "    .dataframe tbody tr th:only-of-type {\n",
       "        vertical-align: middle;\n",
       "    }\n",
       "\n",
       "    .dataframe tbody tr th {\n",
       "        vertical-align: top;\n",
       "    }\n",
       "\n",
       "    .dataframe thead th {\n",
       "        text-align: right;\n",
       "    }\n",
       "</style>\n",
       "<table border=\"1\" class=\"dataframe\">\n",
       "  <thead>\n",
       "    <tr style=\"text-align: right;\">\n",
       "      <th></th>\n",
       "      <th>faceID</th>\n",
       "      <th>glasses</th>\n",
       "      <th>y_test</th>\n",
       "    </tr>\n",
       "  </thead>\n",
       "  <tbody>\n",
       "    <tr>\n",
       "      <th>0</th>\n",
       "      <td>IMG_0003</td>\n",
       "      <td>False</td>\n",
       "      <td>0</td>\n",
       "    </tr>\n",
       "    <tr>\n",
       "      <th>1</th>\n",
       "      <td>IMG_0018</td>\n",
       "      <td>False</td>\n",
       "      <td>0</td>\n",
       "    </tr>\n",
       "  </tbody>\n",
       "</table>\n",
       "</div>"
      ],
      "text/plain": [
       "     faceID  glasses  y_test\n",
       "0  IMG_0003    False       0\n",
       "1  IMG_0018    False       0"
      ]
     },
     "execution_count": 18,
     "metadata": {},
     "output_type": "execute_result"
    }
   ],
   "source": [
    "thesis_glas_labels.head(2)"
   ]
  },
  {
   "cell_type": "code",
   "execution_count": 13,
   "metadata": {},
   "outputs": [],
   "source": [
    "X_test = celeb_emb_npy\n",
    "y_test = thesis_glas_labels['y_test'].values"
   ]
  },
  {
   "cell_type": "code",
   "execution_count": 166,
   "metadata": {},
   "outputs": [
    {
     "name": "stderr",
     "output_type": "stream",
     "text": [
      "C:\\Users\\Paradigit\\Anaconda3\\lib\\site-packages\\sklearn\\base.py:311: UserWarning: Trying to unpickle estimator SGDClassifier from version 0.20.3 when using version 0.19.1. This might lead to breaking code or invalid results. Use at your own risk.\n",
      "  UserWarning)\n"
     ]
    }
   ],
   "source": [
    "glas_model = pickle.load(open('celeba/glasses_model.sav', 'rb'))"
   ]
  },
  {
   "cell_type": "code",
   "execution_count": 167,
   "metadata": {},
   "outputs": [
    {
     "name": "stdout",
     "output_type": "stream",
     "text": [
      "0.953\n",
      "             precision    recall  f1-score   support\n",
      "\n",
      "          0       0.95      0.99      0.97       169\n",
      "          1       0.94      0.67      0.78        24\n",
      "\n",
      "avg / total       0.95      0.95      0.95       193\n",
      "\n",
      "[[168   1]\n",
      " [  8  16]]\n"
     ]
    }
   ],
   "source": [
    "y_pred = glas_model.predict(X_test)\n",
    "print(\"{:.3}\".format(accuracy_score(y_test, y_pred)))\n",
    "\n",
    "print(classification_report(y_test,y_pred))\n",
    "\n",
    "print(confusion_matrix(y_test,y_pred))"
   ]
  },
  {
   "cell_type": "code",
   "execution_count": 168,
   "metadata": {},
   "outputs": [],
   "source": [
    "thesis_glas_labels['y_pred'] = y_pred"
   ]
  },
  {
   "cell_type": "code",
   "execution_count": 185,
   "metadata": {},
   "outputs": [],
   "source": [
    "thesis_glas_labels['result'] = thesis_glas_labels.y_test.astype(str) + thesis_glas_labels.y_pred.astype(str)"
   ]
  },
  {
   "cell_type": "code",
   "execution_count": 190,
   "metadata": {},
   "outputs": [
    {
     "data": {
      "text/html": [
       "<div>\n",
       "<style scoped>\n",
       "    .dataframe tbody tr th:only-of-type {\n",
       "        vertical-align: middle;\n",
       "    }\n",
       "\n",
       "    .dataframe tbody tr th {\n",
       "        vertical-align: top;\n",
       "    }\n",
       "\n",
       "    .dataframe thead th {\n",
       "        text-align: right;\n",
       "    }\n",
       "</style>\n",
       "<table border=\"1\" class=\"dataframe\">\n",
       "  <thead>\n",
       "    <tr style=\"text-align: right;\">\n",
       "      <th></th>\n",
       "      <th>faceID</th>\n",
       "      <th>glasses</th>\n",
       "      <th>y_test</th>\n",
       "      <th>y_pred</th>\n",
       "      <th>result</th>\n",
       "      <th>prediction</th>\n",
       "    </tr>\n",
       "  </thead>\n",
       "  <tbody>\n",
       "    <tr>\n",
       "      <th>0</th>\n",
       "      <td>IMG_0003</td>\n",
       "      <td>False</td>\n",
       "      <td>0</td>\n",
       "      <td>0</td>\n",
       "      <td>00</td>\n",
       "      <td>TN</td>\n",
       "    </tr>\n",
       "    <tr>\n",
       "      <th>1</th>\n",
       "      <td>IMG_0018</td>\n",
       "      <td>False</td>\n",
       "      <td>0</td>\n",
       "      <td>0</td>\n",
       "      <td>00</td>\n",
       "      <td>TN</td>\n",
       "    </tr>\n",
       "    <tr>\n",
       "      <th>2</th>\n",
       "      <td>IMG_0033</td>\n",
       "      <td>False</td>\n",
       "      <td>0</td>\n",
       "      <td>0</td>\n",
       "      <td>00</td>\n",
       "      <td>TN</td>\n",
       "    </tr>\n",
       "    <tr>\n",
       "      <th>3</th>\n",
       "      <td>IMG_0048</td>\n",
       "      <td>False</td>\n",
       "      <td>0</td>\n",
       "      <td>0</td>\n",
       "      <td>00</td>\n",
       "      <td>TN</td>\n",
       "    </tr>\n",
       "    <tr>\n",
       "      <th>4</th>\n",
       "      <td>IMG_0063</td>\n",
       "      <td>False</td>\n",
       "      <td>0</td>\n",
       "      <td>0</td>\n",
       "      <td>00</td>\n",
       "      <td>TN</td>\n",
       "    </tr>\n",
       "  </tbody>\n",
       "</table>\n",
       "</div>"
      ],
      "text/plain": [
       "     faceID  glasses  y_test  y_pred result prediction\n",
       "0  IMG_0003    False       0       0     00         TN\n",
       "1  IMG_0018    False       0       0     00         TN\n",
       "2  IMG_0033    False       0       0     00         TN\n",
       "3  IMG_0048    False       0       0     00         TN\n",
       "4  IMG_0063    False       0       0     00         TN"
      ]
     },
     "execution_count": 190,
     "metadata": {},
     "output_type": "execute_result"
    }
   ],
   "source": [
    "thesis_glas_labels.head()"
   ]
  },
  {
   "cell_type": "code",
   "execution_count": 189,
   "metadata": {},
   "outputs": [],
   "source": [
    "def pred(result):\n",
    "    if result == '00':\n",
    "        return 'TN'\n",
    "    if result == '11':\n",
    "        return 'TP'\n",
    "    \n",
    "    if result == '10':\n",
    "        return 'FN'\n",
    "    if result == '01':\n",
    "        return 'FP'\n",
    "    \n",
    "    \n",
    "\n",
    "\n",
    "thesis_glas_labels['prediction'] = thesis_glas_labels.result.map(pred)"
   ]
  },
  {
   "cell_type": "code",
   "execution_count": 193,
   "metadata": {},
   "outputs": [
    {
     "data": {
      "text/html": [
       "<div>\n",
       "<style scoped>\n",
       "    .dataframe tbody tr th:only-of-type {\n",
       "        vertical-align: middle;\n",
       "    }\n",
       "\n",
       "    .dataframe tbody tr th {\n",
       "        vertical-align: top;\n",
       "    }\n",
       "\n",
       "    .dataframe thead th {\n",
       "        text-align: right;\n",
       "    }\n",
       "</style>\n",
       "<table border=\"1\" class=\"dataframe\">\n",
       "  <thead>\n",
       "    <tr style=\"text-align: right;\">\n",
       "      <th></th>\n",
       "      <th>faceID</th>\n",
       "      <th>glasses</th>\n",
       "      <th>y_test</th>\n",
       "      <th>y_pred</th>\n",
       "      <th>result</th>\n",
       "      <th>prediction</th>\n",
       "    </tr>\n",
       "  </thead>\n",
       "  <tbody>\n",
       "    <tr>\n",
       "      <th>51</th>\n",
       "      <td>IMG_7502</td>\n",
       "      <td>True</td>\n",
       "      <td>1</td>\n",
       "      <td>0</td>\n",
       "      <td>10</td>\n",
       "      <td>FN</td>\n",
       "    </tr>\n",
       "    <tr>\n",
       "      <th>74</th>\n",
       "      <td>IMG_7851</td>\n",
       "      <td>True</td>\n",
       "      <td>1</td>\n",
       "      <td>0</td>\n",
       "      <td>10</td>\n",
       "      <td>FN</td>\n",
       "    </tr>\n",
       "    <tr>\n",
       "      <th>88</th>\n",
       "      <td>IMG_8078</td>\n",
       "      <td>True</td>\n",
       "      <td>1</td>\n",
       "      <td>0</td>\n",
       "      <td>10</td>\n",
       "      <td>FN</td>\n",
       "    </tr>\n",
       "    <tr>\n",
       "      <th>90</th>\n",
       "      <td>IMG_8108</td>\n",
       "      <td>True</td>\n",
       "      <td>1</td>\n",
       "      <td>0</td>\n",
       "      <td>10</td>\n",
       "      <td>FN</td>\n",
       "    </tr>\n",
       "    <tr>\n",
       "      <th>108</th>\n",
       "      <td>IMG_8577</td>\n",
       "      <td>True</td>\n",
       "      <td>1</td>\n",
       "      <td>0</td>\n",
       "      <td>10</td>\n",
       "      <td>FN</td>\n",
       "    </tr>\n",
       "    <tr>\n",
       "      <th>127</th>\n",
       "      <td>IMG_8964</td>\n",
       "      <td>True</td>\n",
       "      <td>1</td>\n",
       "      <td>0</td>\n",
       "      <td>10</td>\n",
       "      <td>FN</td>\n",
       "    </tr>\n",
       "    <tr>\n",
       "      <th>151</th>\n",
       "      <td>IMG_9364</td>\n",
       "      <td>True</td>\n",
       "      <td>1</td>\n",
       "      <td>0</td>\n",
       "      <td>10</td>\n",
       "      <td>FN</td>\n",
       "    </tr>\n",
       "    <tr>\n",
       "      <th>192</th>\n",
       "      <td>IMG_9987</td>\n",
       "      <td>True</td>\n",
       "      <td>1</td>\n",
       "      <td>0</td>\n",
       "      <td>10</td>\n",
       "      <td>FN</td>\n",
       "    </tr>\n",
       "  </tbody>\n",
       "</table>\n",
       "</div>"
      ],
      "text/plain": [
       "       faceID  glasses  y_test  y_pred result prediction\n",
       "51   IMG_7502     True       1       0     10         FN\n",
       "74   IMG_7851     True       1       0     10         FN\n",
       "88   IMG_8078     True       1       0     10         FN\n",
       "90   IMG_8108     True       1       0     10         FN\n",
       "108  IMG_8577     True       1       0     10         FN\n",
       "127  IMG_8964     True       1       0     10         FN\n",
       "151  IMG_9364     True       1       0     10         FN\n",
       "192  IMG_9987     True       1       0     10         FN"
      ]
     },
     "execution_count": 193,
     "metadata": {},
     "output_type": "execute_result"
    }
   ],
   "source": [
    "thesis_glas_labels[thesis_glas_labels.prediction == 'FN']"
   ]
  },
  {
   "cell_type": "code",
   "execution_count": 25,
   "metadata": {},
   "outputs": [
    {
     "name": "stderr",
     "output_type": "stream",
     "text": [
      "C:\\Users\\Paradigit\\Anaconda3\\lib\\site-packages\\sklearn\\base.py:311: UserWarning: Trying to unpickle estimator LabelBinarizer from version 0.20.3 when using version 0.19.1. This might lead to breaking code or invalid results. Use at your own risk.\n",
      "  UserWarning)\n",
      "C:\\Users\\Paradigit\\Anaconda3\\lib\\site-packages\\sklearn\\base.py:311: UserWarning: Trying to unpickle estimator MLPClassifier from version 0.20.3 when using version 0.19.1. This might lead to breaking code or invalid results. Use at your own risk.\n",
      "  UserWarning)\n"
     ]
    }
   ],
   "source": [
    "#mlp\n",
    "\n",
    "glas_mlp_model = pickle.load(open('celeba/glasses_mlp_model.sav', 'rb'))"
   ]
  },
  {
   "cell_type": "code",
   "execution_count": 26,
   "metadata": {},
   "outputs": [
    {
     "name": "stdout",
     "output_type": "stream",
     "text": [
      "0.979\n",
      "             precision    recall  f1-score   support\n",
      "\n",
      "          0       1.00      0.98      0.99       169\n",
      "          1       0.86      1.00      0.92        24\n",
      "\n",
      "avg / total       0.98      0.98      0.98       193\n",
      "\n",
      "[[165   4]\n",
      " [  0  24]]\n"
     ]
    }
   ],
   "source": [
    "y_pred = glas_mlp_model.predict(X_test)\n",
    "print(\"{:.3}\".format(accuracy_score(y_test, y_pred)))\n",
    "\n",
    "print(classification_report(y_test,y_pred))\n",
    "\n",
    "print(confusion_matrix(y_test,y_pred))"
   ]
  },
  {
   "cell_type": "code",
   "execution_count": 15,
   "metadata": {},
   "outputs": [],
   "source": [
    "glas_keras_model = pickle.load(open('celeba/glasses_keras_model.sav', 'rb'))"
   ]
  },
  {
   "cell_type": "code",
   "execution_count": 18,
   "metadata": {},
   "outputs": [
    {
     "name": "stdout",
     "output_type": "stream",
     "text": [
      "0.979\n",
      "             precision    recall  f1-score   support\n",
      "\n",
      "          0       1.00      0.98      0.99       169\n",
      "          1       0.86      1.00      0.92        24\n",
      "\n",
      "avg / total       0.98      0.98      0.98       193\n",
      "\n",
      "[[165   4]\n",
      " [  0  24]]\n"
     ]
    }
   ],
   "source": [
    "y_pred = glas_keras_model.predict(X_test)\n",
    "y_pred = (y_pred > 0.5)\n",
    "print(\"{:.3}\".format(accuracy_score(y_test, y_pred)))\n",
    "\n",
    "print(classification_report(y_test,y_pred))\n",
    "\n",
    "print(confusion_matrix(y_test,y_pred))"
   ]
  },
  {
   "cell_type": "markdown",
   "metadata": {},
   "source": [
    "### undersample"
   ]
  },
  {
   "cell_type": "code",
   "execution_count": 158,
   "metadata": {},
   "outputs": [
    {
     "name": "stderr",
     "output_type": "stream",
     "text": [
      "C:\\Users\\Paradigit\\Anaconda3\\lib\\site-packages\\sklearn\\base.py:311: UserWarning: Trying to unpickle estimator SGDClassifier from version 0.20.3 when using version 0.19.1. This might lead to breaking code or invalid results. Use at your own risk.\n",
      "  UserWarning)\n"
     ]
    }
   ],
   "source": [
    "glas_undersample_model = pickle.load(open('celeba/glasses_undersample_model.sav', 'rb'))"
   ]
  },
  {
   "cell_type": "code",
   "execution_count": 160,
   "metadata": {},
   "outputs": [
    {
     "name": "stdout",
     "output_type": "stream",
     "text": [
      "0.731\n",
      "             precision    recall  f1-score   support\n",
      "\n",
      "          0       1.00      0.69      0.82       169\n",
      "          1       0.32      1.00      0.48        24\n",
      "\n",
      "avg / total       0.91      0.73      0.78       193\n",
      "\n",
      "[[117  52]\n",
      " [  0  24]]\n"
     ]
    }
   ],
   "source": [
    "y_pred = glas_undersample_model.predict(X_test)\n",
    "print(\"{:.3}\".format(accuracy_score(y_test, y_pred)))\n",
    "\n",
    "print(classification_report(y_test,y_pred))\n",
    "\n",
    "print(confusion_matrix(y_test,y_pred))"
   ]
  },
  {
   "cell_type": "code",
   "execution_count": 27,
   "metadata": {},
   "outputs": [
    {
     "name": "stderr",
     "output_type": "stream",
     "text": [
      "C:\\Users\\Paradigit\\Anaconda3\\lib\\site-packages\\sklearn\\base.py:311: UserWarning: Trying to unpickle estimator LabelBinarizer from version 0.20.3 when using version 0.19.1. This might lead to breaking code or invalid results. Use at your own risk.\n",
      "  UserWarning)\n",
      "C:\\Users\\Paradigit\\Anaconda3\\lib\\site-packages\\sklearn\\base.py:311: UserWarning: Trying to unpickle estimator MLPClassifier from version 0.20.3 when using version 0.19.1. This might lead to breaking code or invalid results. Use at your own risk.\n",
      "  UserWarning)\n"
     ]
    }
   ],
   "source": [
    "glas_mlp_undersample_model = pickle.load(open('celeba/glasses_mlp_undersample_model.sav', 'rb'))"
   ]
  },
  {
   "cell_type": "code",
   "execution_count": 29,
   "metadata": {},
   "outputs": [
    {
     "name": "stdout",
     "output_type": "stream",
     "text": [
      "0.927\n",
      "             precision    recall  f1-score   support\n",
      "\n",
      "          0       0.99      0.92      0.96       169\n",
      "          1       0.64      0.96      0.77        24\n",
      "\n",
      "avg / total       0.95      0.93      0.93       193\n",
      "\n",
      "[[156  13]\n",
      " [  1  23]]\n"
     ]
    }
   ],
   "source": [
    "y_pred = glas_mlp_undersample_model.predict(X_test)\n",
    "print(\"{:.3}\".format(accuracy_score(y_test, y_pred)))\n",
    "\n",
    "print(classification_report(y_test,y_pred))\n",
    "\n",
    "print(confusion_matrix(y_test,y_pred))"
   ]
  },
  {
   "cell_type": "markdown",
   "metadata": {},
   "source": [
    "## oversample"
   ]
  },
  {
   "cell_type": "code",
   "execution_count": 163,
   "metadata": {},
   "outputs": [
    {
     "name": "stderr",
     "output_type": "stream",
     "text": [
      "C:\\Users\\Paradigit\\Anaconda3\\lib\\site-packages\\sklearn\\base.py:311: UserWarning: Trying to unpickle estimator SGDClassifier from version 0.20.3 when using version 0.19.1. This might lead to breaking code or invalid results. Use at your own risk.\n",
      "  UserWarning)\n"
     ]
    }
   ],
   "source": [
    "glas_oversample_model = pickle.load(open('celeba/glasses_oversample_model.sav', 'rb'))"
   ]
  },
  {
   "cell_type": "code",
   "execution_count": 164,
   "metadata": {},
   "outputs": [
    {
     "name": "stdout",
     "output_type": "stream",
     "text": [
      "0.751\n",
      "             precision    recall  f1-score   support\n",
      "\n",
      "          0       1.00      0.72      0.83       169\n",
      "          1       0.33      1.00      0.50        24\n",
      "\n",
      "avg / total       0.92      0.75      0.79       193\n",
      "\n",
      "[[121  48]\n",
      " [  0  24]]\n"
     ]
    }
   ],
   "source": [
    "y_pred = glas_oversample_model.predict(X_test)\n",
    "print(\"{:.3}\".format(accuracy_score(y_test, y_pred)))\n",
    "\n",
    "print(classification_report(y_test,y_pred))\n",
    "\n",
    "print(confusion_matrix(y_test,y_pred))"
   ]
  },
  {
   "cell_type": "markdown",
   "metadata": {},
   "source": [
    "# eye"
   ]
  },
  {
   "cell_type": "code",
   "execution_count": 32,
   "metadata": {},
   "outputs": [],
   "source": [
    "#ethnicity\n",
    "\n",
    "#perceived  consensus\n",
    "def concensus_prop(lst):\n",
    "    try:\n",
    "        mod = mode(lst)\n",
    "        most = lst.count(mod) \n",
    "        prop = most / len(lst)\n",
    "    except:\n",
    "        prop = 0.5\n",
    "        most = 'tie'\n",
    "    return prop\n",
    "\n",
    "#most concensus val\n",
    "def concensus_val(lst):\n",
    "    try:\n",
    "        val = mode(lst)\n",
    "        most = lst.count(val) \n",
    "        prop = most / len(lst)\n",
    "    except:\n",
    "        prop = 0.5\n",
    "        val = 'tie' \n",
    "    return val\n",
    "\n",
    "\n"
   ]
  },
  {
   "cell_type": "code",
   "execution_count": 33,
   "metadata": {},
   "outputs": [
    {
     "data": {
      "text/html": [
       "<div>\n",
       "<style scoped>\n",
       "    .dataframe tbody tr th:only-of-type {\n",
       "        vertical-align: middle;\n",
       "    }\n",
       "\n",
       "    .dataframe tbody tr th {\n",
       "        vertical-align: top;\n",
       "    }\n",
       "\n",
       "    .dataframe thead th {\n",
       "        text-align: right;\n",
       "    }\n",
       "</style>\n",
       "<table border=\"1\" class=\"dataframe\">\n",
       "  <thead>\n",
       "    <tr style=\"text-align: right;\">\n",
       "      <th></th>\n",
       "      <th>faceID</th>\n",
       "      <th>face_perceived_physical-description</th>\n",
       "      <th>face_perceived_ethnicity</th>\n",
       "      <th>face_perceived_ethnicity-details</th>\n",
       "      <th>face_perceived_eye</th>\n",
       "      <th>face_perceived_hair</th>\n",
       "      <th>face_perceived_photo-gender</th>\n",
       "      <th>uniqueID</th>\n",
       "      <th>glasses_mentioned</th>\n",
       "      <th>glasses</th>\n",
       "      <th>face_gender_mode</th>\n",
       "    </tr>\n",
       "  </thead>\n",
       "  <tbody>\n",
       "    <tr>\n",
       "      <th>0</th>\n",
       "      <td>IMG_8622</td>\n",
       "      <td>[Has beautiful eyebrows and a nice hair cut. H...</td>\n",
       "      <td>[african, african, latino, latino, african, af...</td>\n",
       "      <td>[indian, Arab, Indian/Turkish, Pakistani?, Ind...</td>\n",
       "      <td>[brown, Brown, black, black, brown, Brown, bro...</td>\n",
       "      <td>[black, Black, black, black, black, Black, bla...</td>\n",
       "      <td>[male, male, male, male, male, male, male, mal...</td>\n",
       "      <td>[85762, 71137, 3200, 998, 68096, 17150, 72782,...</td>\n",
       "      <td>0</td>\n",
       "      <td>False</td>\n",
       "      <td>male</td>\n",
       "    </tr>\n",
       "    <tr>\n",
       "      <th>1</th>\n",
       "      <td>IMG_7942</td>\n",
       "      <td>[They have short[comma] dark hair and light br...</td>\n",
       "      <td>[white, latino, african, latino, african, lati...</td>\n",
       "      <td>[Lebanese, Indian, Middle Eastern, Middle east...</td>\n",
       "      <td>[brown, brown, black, black, Brown, brown, bla...</td>\n",
       "      <td>[black, brown, black, black, Black, black, bla...</td>\n",
       "      <td>[male, male, male, male, male, male, male, mal...</td>\n",
       "      <td>[91607, 86889, 54955, 69543, 85473, 2015, 6647...</td>\n",
       "      <td>7</td>\n",
       "      <td>True</td>\n",
       "      <td>male</td>\n",
       "    </tr>\n",
       "    <tr>\n",
       "      <th>2</th>\n",
       "      <td>IMG_0401</td>\n",
       "      <td>[This is an Asian guy in his 20s. He has short...</td>\n",
       "      <td>[african, african, african, african, african, ...</td>\n",
       "      <td>[]</td>\n",
       "      <td>[black, Brown, brown, brown, brown, black]</td>\n",
       "      <td>[black, Black, black, black, black, black]</td>\n",
       "      <td>[male, male, male, male, male, male]</td>\n",
       "      <td>[60735, 79320, 48785, 83315, 82981, 66029]</td>\n",
       "      <td>0</td>\n",
       "      <td>False</td>\n",
       "      <td>male</td>\n",
       "    </tr>\n",
       "    <tr>\n",
       "      <th>3</th>\n",
       "      <td>IMG_0018</td>\n",
       "      <td>[This person has a crew cut with dirty blonde ...</td>\n",
       "      <td>[white, white, white, white, white, white, whi...</td>\n",
       "      <td>[]</td>\n",
       "      <td>[Blue, Green, blue, brown, blue, blue, green, ...</td>\n",
       "      <td>[Blonde, Blonde, blonde, blonde, dirty blonde,...</td>\n",
       "      <td>[male, male, male, male, male, male, male, mal...</td>\n",
       "      <td>[77802, 25131, 32678, 94238, 72285, 47710, 731...</td>\n",
       "      <td>0</td>\n",
       "      <td>False</td>\n",
       "      <td>male</td>\n",
       "    </tr>\n",
       "    <tr>\n",
       "      <th>4</th>\n",
       "      <td>IMG_0777</td>\n",
       "      <td>[long hair combed over all emo like. a beard t...</td>\n",
       "      <td>[white, white, white, white, white, white, whi...</td>\n",
       "      <td>[]</td>\n",
       "      <td>[brown, Brown, green, black, green, black, bro...</td>\n",
       "      <td>[brown, Brown, Brown, black, brown, brown, bro...</td>\n",
       "      <td>[male, male, male, male, male, male, male, mal...</td>\n",
       "      <td>[85056, 33585, 47691, 998, 84607, 91079, 37044...</td>\n",
       "      <td>0</td>\n",
       "      <td>False</td>\n",
       "      <td>male</td>\n",
       "    </tr>\n",
       "  </tbody>\n",
       "</table>\n",
       "</div>"
      ],
      "text/plain": [
       "     faceID                face_perceived_physical-description  \\\n",
       "0  IMG_8622  [Has beautiful eyebrows and a nice hair cut. H...   \n",
       "1  IMG_7942  [They have short[comma] dark hair and light br...   \n",
       "2  IMG_0401  [This is an Asian guy in his 20s. He has short...   \n",
       "3  IMG_0018  [This person has a crew cut with dirty blonde ...   \n",
       "4  IMG_0777  [long hair combed over all emo like. a beard t...   \n",
       "\n",
       "                            face_perceived_ethnicity  \\\n",
       "0  [african, african, latino, latino, african, af...   \n",
       "1  [white, latino, african, latino, african, lati...   \n",
       "2  [african, african, african, african, african, ...   \n",
       "3  [white, white, white, white, white, white, whi...   \n",
       "4  [white, white, white, white, white, white, whi...   \n",
       "\n",
       "                    face_perceived_ethnicity-details  \\\n",
       "0  [indian, Arab, Indian/Turkish, Pakistani?, Ind...   \n",
       "1  [Lebanese, Indian, Middle Eastern, Middle east...   \n",
       "2                                                 []   \n",
       "3                                                 []   \n",
       "4                                                 []   \n",
       "\n",
       "                                  face_perceived_eye  \\\n",
       "0  [brown, Brown, black, black, brown, Brown, bro...   \n",
       "1  [brown, brown, black, black, Brown, brown, bla...   \n",
       "2         [black, Brown, brown, brown, brown, black]   \n",
       "3  [Blue, Green, blue, brown, blue, blue, green, ...   \n",
       "4  [brown, Brown, green, black, green, black, bro...   \n",
       "\n",
       "                                 face_perceived_hair  \\\n",
       "0  [black, Black, black, black, black, Black, bla...   \n",
       "1  [black, brown, black, black, Black, black, bla...   \n",
       "2         [black, Black, black, black, black, black]   \n",
       "3  [Blonde, Blonde, blonde, blonde, dirty blonde,...   \n",
       "4  [brown, Brown, Brown, black, brown, brown, bro...   \n",
       "\n",
       "                         face_perceived_photo-gender  \\\n",
       "0  [male, male, male, male, male, male, male, mal...   \n",
       "1  [male, male, male, male, male, male, male, mal...   \n",
       "2               [male, male, male, male, male, male]   \n",
       "3  [male, male, male, male, male, male, male, mal...   \n",
       "4  [male, male, male, male, male, male, male, mal...   \n",
       "\n",
       "                                            uniqueID  glasses_mentioned  \\\n",
       "0  [85762, 71137, 3200, 998, 68096, 17150, 72782,...                  0   \n",
       "1  [91607, 86889, 54955, 69543, 85473, 2015, 6647...                  7   \n",
       "2         [60735, 79320, 48785, 83315, 82981, 66029]                  0   \n",
       "3  [77802, 25131, 32678, 94238, 72285, 47710, 731...                  0   \n",
       "4  [85056, 33585, 47691, 998, 84607, 91079, 37044...                  0   \n",
       "\n",
       "   glasses face_gender_mode  \n",
       "0    False             male  \n",
       "1     True             male  \n",
       "2    False             male  \n",
       "3    False             male  \n",
       "4    False             male  "
      ]
     },
     "execution_count": 33,
     "metadata": {},
     "output_type": "execute_result"
    }
   ],
   "source": [
    "image_fr.head()"
   ]
  },
  {
   "cell_type": "code",
   "execution_count": 34,
   "metadata": {},
   "outputs": [],
   "source": [
    "#eye\n",
    "image_fr['eye_consensus_prop'] = image_fr.face_perceived_eye.map(concensus_prop)\n",
    "image_fr['eye_perceived'] = image_fr.face_perceived_eye.map(concensus_val)\n",
    "\n",
    "#nr of eyecolor perceived\n",
    "image_fr['nr_eye_col'] = image_fr.face_perceived_eye.map(set)\n",
    "image_fr['nr_eye_col'] = image_fr['nr_eye_col'].map(len)"
   ]
  },
  {
   "cell_type": "code",
   "execution_count": 37,
   "metadata": {},
   "outputs": [
    {
     "data": {
      "text/plain": [
       "brown    153\n",
       "tie       18\n",
       "Brown     12\n",
       "blue       9\n",
       "green      1\n",
       "Name: eye_perceived, dtype: int64"
      ]
     },
     "execution_count": 37,
     "metadata": {},
     "output_type": "execute_result"
    }
   ],
   "source": [
    "image_fr.eye_perceived.value_counts()"
   ]
  },
  {
   "cell_type": "code",
   "execution_count": 38,
   "metadata": {},
   "outputs": [
    {
     "data": {
      "text/html": [
       "<div>\n",
       "<style scoped>\n",
       "    .dataframe tbody tr th:only-of-type {\n",
       "        vertical-align: middle;\n",
       "    }\n",
       "\n",
       "    .dataframe tbody tr th {\n",
       "        vertical-align: top;\n",
       "    }\n",
       "\n",
       "    .dataframe thead th {\n",
       "        text-align: right;\n",
       "    }\n",
       "</style>\n",
       "<table border=\"1\" class=\"dataframe\">\n",
       "  <thead>\n",
       "    <tr style=\"text-align: right;\">\n",
       "      <th></th>\n",
       "      <th>faceID</th>\n",
       "      <th>face_perceived_physical-description</th>\n",
       "      <th>face_perceived_ethnicity</th>\n",
       "      <th>face_perceived_ethnicity-details</th>\n",
       "      <th>face_perceived_eye</th>\n",
       "      <th>face_perceived_hair</th>\n",
       "      <th>face_perceived_photo-gender</th>\n",
       "      <th>uniqueID</th>\n",
       "      <th>glasses_mentioned</th>\n",
       "      <th>glasses</th>\n",
       "      <th>face_gender_mode</th>\n",
       "      <th>eye_consensus_prop</th>\n",
       "      <th>eye_perceived</th>\n",
       "      <th>nr_eye_col</th>\n",
       "    </tr>\n",
       "  </thead>\n",
       "  <tbody>\n",
       "    <tr>\n",
       "      <th>10</th>\n",
       "      <td>IMG_9921</td>\n",
       "      <td>[Short[comma] average build[comma] mid-length ...</td>\n",
       "      <td>[african, african, african, african, african, ...</td>\n",
       "      <td>[Chinese]</td>\n",
       "      <td>[black, black, Brown, black, black, brown, bro...</td>\n",
       "      <td>[black, white, Black, black, black, black, bla...</td>\n",
       "      <td>[female, male, female, female, female, female,...</td>\n",
       "      <td>[35309, 80864, 18392, 10558, 55798, 57798, 594...</td>\n",
       "      <td>0</td>\n",
       "      <td>False</td>\n",
       "      <td>female</td>\n",
       "      <td>0.5</td>\n",
       "      <td>tie</td>\n",
       "      <td>5</td>\n",
       "    </tr>\n",
       "    <tr>\n",
       "      <th>11</th>\n",
       "      <td>IMG_9725</td>\n",
       "      <td>[This person is black with short black hair.  ...</td>\n",
       "      <td>[african, african, african, african, african, ...</td>\n",
       "      <td>[]</td>\n",
       "      <td>[Black, Black, brown, black, Brown, brown, Bro...</td>\n",
       "      <td>[Black, Black, black, black, Black, black, Bla...</td>\n",
       "      <td>[male, male, male, male, male, male, male, mal...</td>\n",
       "      <td>[56196, 33585, 517, 19575, 91573, 91607, 35977...</td>\n",
       "      <td>0</td>\n",
       "      <td>False</td>\n",
       "      <td>male</td>\n",
       "      <td>0.5</td>\n",
       "      <td>tie</td>\n",
       "      <td>4</td>\n",
       "    </tr>\n",
       "    <tr>\n",
       "      <th>19</th>\n",
       "      <td>IMG_0214</td>\n",
       "      <td>[This is an asian male with dark hair and fair...</td>\n",
       "      <td>[african, african, african, white, african, af...</td>\n",
       "      <td>[]</td>\n",
       "      <td>[Black, Black, dark brown, brown, black, Brown...</td>\n",
       "      <td>[Brown, Black, Black, good, black, black, Blac...</td>\n",
       "      <td>[male, male, male, male, male, male, male, mal...</td>\n",
       "      <td>[23661, 30647, 7227, 81914, 44695, 59053, 2513...</td>\n",
       "      <td>0</td>\n",
       "      <td>False</td>\n",
       "      <td>male</td>\n",
       "      <td>0.5</td>\n",
       "      <td>tie</td>\n",
       "      <td>5</td>\n",
       "    </tr>\n",
       "    <tr>\n",
       "      <th>20</th>\n",
       "      <td>IMG_8018</td>\n",
       "      <td>[This man is tall and well built. He has curli...</td>\n",
       "      <td>[white, white, white, white, white, white, whi...</td>\n",
       "      <td>[This person has European/Scandinavian roots, ...</td>\n",
       "      <td>[brown, blue, blue, brown, brown, Blue, Brown,...</td>\n",
       "      <td>[blonde, blonde, blond, brown, golden blonde, ...</td>\n",
       "      <td>[male, male, male, male, male, male, male, mal...</td>\n",
       "      <td>[25561, 5877, 10558, 51909, 55134, 24791, 3797...</td>\n",
       "      <td>0</td>\n",
       "      <td>False</td>\n",
       "      <td>male</td>\n",
       "      <td>0.5</td>\n",
       "      <td>tie</td>\n",
       "      <td>6</td>\n",
       "    </tr>\n",
       "    <tr>\n",
       "      <th>42</th>\n",
       "      <td>IMG_7745</td>\n",
       "      <td>[Young white male with red hair and green eyes...</td>\n",
       "      <td>[white, white, white, white, latino, white, wh...</td>\n",
       "      <td>[Irish, Irish, CHRISTIAN, Irish/Scottish]</td>\n",
       "      <td>[green, br, Black, green, blue, brown, green, ...</td>\n",
       "      <td>[red, br, Brown, red, brown, brown, orange, br...</td>\n",
       "      <td>[male, male, male, male, male, male, male, mal...</td>\n",
       "      <td>[49620, 3828, 30233, 13021, 38480, 54959, 7637...</td>\n",
       "      <td>0</td>\n",
       "      <td>False</td>\n",
       "      <td>male</td>\n",
       "      <td>0.5</td>\n",
       "      <td>tie</td>\n",
       "      <td>8</td>\n",
       "    </tr>\n",
       "    <tr>\n",
       "      <th>71</th>\n",
       "      <td>IMG_9379</td>\n",
       "      <td>[Wide nose[comma] short hair[comma] strong eye...</td>\n",
       "      <td>[white, latino, african, african, african, afr...</td>\n",
       "      <td>[Iranian, Indian, Arab, unsure, Indian]</td>\n",
       "      <td>[Brown, brown, Brown, Brown, brown, Brown, bro...</td>\n",
       "      <td>[Black, brown, Black, Black, black, Black, bla...</td>\n",
       "      <td>[female, female, female, female, female, femal...</td>\n",
       "      <td>[10808, 84482, 62702, 52824, 68232, 85193, 989...</td>\n",
       "      <td>0</td>\n",
       "      <td>False</td>\n",
       "      <td>female</td>\n",
       "      <td>0.5</td>\n",
       "      <td>tie</td>\n",
       "      <td>4</td>\n",
       "    </tr>\n",
       "    <tr>\n",
       "      <th>79</th>\n",
       "      <td>IMG_0003</td>\n",
       "      <td>[Thin diamond face[comma] thin nose[comma] rud...</td>\n",
       "      <td>[white, white, white, white, white, white, whi...</td>\n",
       "      <td>[]</td>\n",
       "      <td>[green, Brown, brown, Grey, Brown, gray, brown...</td>\n",
       "      <td>[blonde, Dirty Blonde, brown, Blond, Dirty Blo...</td>\n",
       "      <td>[female, female, female, female, female, femal...</td>\n",
       "      <td>[8833, 20801, 21974, 11939, 18963, 59053, 7350...</td>\n",
       "      <td>0</td>\n",
       "      <td>False</td>\n",
       "      <td>female</td>\n",
       "      <td>0.5</td>\n",
       "      <td>tie</td>\n",
       "      <td>6</td>\n",
       "    </tr>\n",
       "    <tr>\n",
       "      <th>97</th>\n",
       "      <td>IMG_9649</td>\n",
       "      <td>[SHORT AND STOCK[comma] I WOULD SAY AROUND 190...</td>\n",
       "      <td>[african, african, white, african, white, lati...</td>\n",
       "      <td>[INDIAN, Indian?, Middle Eastern]</td>\n",
       "      <td>[BLACK, BROWN, black, black, brown, brown, bla...</td>\n",
       "      <td>[BLACK, BLACK, black, black, black, black, bla...</td>\n",
       "      <td>[male, male, male, male, male, male, male, male]</td>\n",
       "      <td>[73885, 63872, 61594, 11505, 82621, 98149, 684...</td>\n",
       "      <td>4</td>\n",
       "      <td>True</td>\n",
       "      <td>male</td>\n",
       "      <td>0.5</td>\n",
       "      <td>tie</td>\n",
       "      <td>4</td>\n",
       "    </tr>\n",
       "    <tr>\n",
       "      <th>102</th>\n",
       "      <td>IMG_0716</td>\n",
       "      <td>[Round face[comma] long hair[comma] and a slig...</td>\n",
       "      <td>[african, african, african, african, african, ...</td>\n",
       "      <td>[South korean, chinese]</td>\n",
       "      <td>[black, Brown, Brown, Black, black, brown, Bla...</td>\n",
       "      <td>[black, Black, Black, Black, black, brown, Bla...</td>\n",
       "      <td>[female, female, female, female, female, femal...</td>\n",
       "      <td>[33988, 83285, 82093, 68143, 94053, 15451, 552...</td>\n",
       "      <td>0</td>\n",
       "      <td>False</td>\n",
       "      <td>female</td>\n",
       "      <td>0.5</td>\n",
       "      <td>tie</td>\n",
       "      <td>4</td>\n",
       "    </tr>\n",
       "    <tr>\n",
       "      <th>113</th>\n",
       "      <td>IMG_0551</td>\n",
       "      <td>[He is a short/medium height white male. He ha...</td>\n",
       "      <td>[white, white, white, white, white, white, whi...</td>\n",
       "      <td>[]</td>\n",
       "      <td>[Blue, green, Brown, Blue, blue, Blue, Brown, ...</td>\n",
       "      <td>[Brown, brown, Brown, Brown, brown, Brown, Bro...</td>\n",
       "      <td>[male, male, male, male, male, male, male, mal...</td>\n",
       "      <td>[17678, 56210, 40164, 54347, 48915, 20993, 303...</td>\n",
       "      <td>0</td>\n",
       "      <td>False</td>\n",
       "      <td>male</td>\n",
       "      <td>0.5</td>\n",
       "      <td>tie</td>\n",
       "      <td>5</td>\n",
       "    </tr>\n",
       "    <tr>\n",
       "      <th>120</th>\n",
       "      <td>IMG_8844</td>\n",
       "      <td>[This is an extreamly average woman. She has l...</td>\n",
       "      <td>[white, white, latino, latino, white, white, w...</td>\n",
       "      <td>[White]</td>\n",
       "      <td>[Blue, brown, Black, Black, brown, blue, brown...</td>\n",
       "      <td>[Sandy Blonde, brown, Brown, Brown, brown, bro...</td>\n",
       "      <td>[female, female, female, female, female, femal...</td>\n",
       "      <td>[1512, 92919, 92248, 12122, 54959, 77509, 7815...</td>\n",
       "      <td>0</td>\n",
       "      <td>False</td>\n",
       "      <td>female</td>\n",
       "      <td>0.5</td>\n",
       "      <td>tie</td>\n",
       "      <td>5</td>\n",
       "    </tr>\n",
       "    <tr>\n",
       "      <th>164</th>\n",
       "      <td>IMG_7685</td>\n",
       "      <td>[Gorgeous young woman. Long straight blonde ha...</td>\n",
       "      <td>[white, white, white, white, white, white, whi...</td>\n",
       "      <td>[]</td>\n",
       "      <td>[blue, Blue, Blue, blue, brown, blue, blue, br...</td>\n",
       "      <td>[Pale blonde, Blonde, Blonde, blonde, Blond, b...</td>\n",
       "      <td>[female, female, male, female, female, female,...</td>\n",
       "      <td>[24791, 37111, 670, 15453, 45908, 82621, 35734...</td>\n",
       "      <td>0</td>\n",
       "      <td>False</td>\n",
       "      <td>female</td>\n",
       "      <td>0.5</td>\n",
       "      <td>tie</td>\n",
       "      <td>5</td>\n",
       "    </tr>\n",
       "    <tr>\n",
       "      <th>165</th>\n",
       "      <td>IMG_7653</td>\n",
       "      <td>[Man with glasses and balding blonde hair and ...</td>\n",
       "      <td>[white, white, white, white, white, white, whi...</td>\n",
       "      <td>[caucasian]</td>\n",
       "      <td>[green, brown, Blue, Brown, Blue, blue, brown,...</td>\n",
       "      <td>[blonde, dark blond, Blonde, Blonde, Blonde, b...</td>\n",
       "      <td>[male, male, male, male, male, male, male, mal...</td>\n",
       "      <td>[14644, 45011, 3051, 82015, 16271, 86610, 2474...</td>\n",
       "      <td>12</td>\n",
       "      <td>True</td>\n",
       "      <td>male</td>\n",
       "      <td>0.5</td>\n",
       "      <td>tie</td>\n",
       "      <td>6</td>\n",
       "    </tr>\n",
       "    <tr>\n",
       "      <th>172</th>\n",
       "      <td>IMG_0626</td>\n",
       "      <td>[Short blonde hair[comma] blue eyes[comma] 5 f...</td>\n",
       "      <td>[white, white, white, white, white, white, whi...</td>\n",
       "      <td>[Caucasian]</td>\n",
       "      <td>[blue, green, Brown, Brown, blue, brown, brown...</td>\n",
       "      <td>[Blonde, dirty blond, Brown, Brown, blonde, di...</td>\n",
       "      <td>[male, male, male, male, male, male, male, mal...</td>\n",
       "      <td>[8413, 517, 43263, 49141, 9701, 517, 44695, 71...</td>\n",
       "      <td>0</td>\n",
       "      <td>False</td>\n",
       "      <td>male</td>\n",
       "      <td>0.5</td>\n",
       "      <td>tie</td>\n",
       "      <td>7</td>\n",
       "    </tr>\n",
       "    <tr>\n",
       "      <th>175</th>\n",
       "      <td>IMG_9514</td>\n",
       "      <td>[He is 5' 10' tall[comma] has short straight t...</td>\n",
       "      <td>[african, african, white, african, african, af...</td>\n",
       "      <td>[CHRISTIAN, Looks like half-Asian., He looks h...</td>\n",
       "      <td>[dark brown, Brown, BLACK, black, brown , brow...</td>\n",
       "      <td>[black, Black, BLACK , black, black, black, bl...</td>\n",
       "      <td>[male, male, male, male, male, male, male, mal...</td>\n",
       "      <td>[6749, 88372, 67635, 9201, 74250, 92919, 4724,...</td>\n",
       "      <td>0</td>\n",
       "      <td>False</td>\n",
       "      <td>male</td>\n",
       "      <td>0.5</td>\n",
       "      <td>tie</td>\n",
       "      <td>6</td>\n",
       "    </tr>\n",
       "    <tr>\n",
       "      <th>178</th>\n",
       "      <td>IMG_8063</td>\n",
       "      <td>[This is an average height male with brown hai...</td>\n",
       "      <td>[white, white, african, african, white, africa...</td>\n",
       "      <td>[middle eastern , Middle Eastern, unsure]</td>\n",
       "      <td>[Brown, Brown, brown, black, Brown, Brown, bro...</td>\n",
       "      <td>[Brown, Black, black, black, Black, Brown, bla...</td>\n",
       "      <td>[male, male, male, male, male, male, male, mal...</td>\n",
       "      <td>[1512, 47072, 11639, 55257, 45350, 48755, 8460...</td>\n",
       "      <td>0</td>\n",
       "      <td>False</td>\n",
       "      <td>male</td>\n",
       "      <td>0.5</td>\n",
       "      <td>tie</td>\n",
       "      <td>3</td>\n",
       "    </tr>\n",
       "    <tr>\n",
       "      <th>180</th>\n",
       "      <td>IMG_7578</td>\n",
       "      <td>[A young girl with mild acne. Has her ears pie...</td>\n",
       "      <td>[white, white, white, white, white, white, whi...</td>\n",
       "      <td>[]</td>\n",
       "      <td>[green, brown , blue, Hazel, hazel, blue, gree...</td>\n",
       "      <td>[brown, medium brown, blonde, Brunette, brown,...</td>\n",
       "      <td>[female, female, female, female, female, femal...</td>\n",
       "      <td>[81420, 5628, 94008, 20690, 66029, 84856, 2759...</td>\n",
       "      <td>0</td>\n",
       "      <td>False</td>\n",
       "      <td>female</td>\n",
       "      <td>0.5</td>\n",
       "      <td>tie</td>\n",
       "      <td>6</td>\n",
       "    </tr>\n",
       "    <tr>\n",
       "      <th>187</th>\n",
       "      <td>IMG_7715</td>\n",
       "      <td>[They have a cleft chin[comma] full round chee...</td>\n",
       "      <td>[african, african, african, african, african, ...</td>\n",
       "      <td>[]</td>\n",
       "      <td>[Dark Brown , Black, brown, Brown, black, Brow...</td>\n",
       "      <td>[black , Black, black, Black, black, Black, bl...</td>\n",
       "      <td>[female, female, female, female, female, femal...</td>\n",
       "      <td>[87824, 73780, 7340, 16148, 69543, 3147, 92253...</td>\n",
       "      <td>0</td>\n",
       "      <td>False</td>\n",
       "      <td>female</td>\n",
       "      <td>0.5</td>\n",
       "      <td>tie</td>\n",
       "      <td>5</td>\n",
       "    </tr>\n",
       "  </tbody>\n",
       "</table>\n",
       "</div>"
      ],
      "text/plain": [
       "       faceID                face_perceived_physical-description  \\\n",
       "10   IMG_9921  [Short[comma] average build[comma] mid-length ...   \n",
       "11   IMG_9725  [This person is black with short black hair.  ...   \n",
       "19   IMG_0214  [This is an asian male with dark hair and fair...   \n",
       "20   IMG_8018  [This man is tall and well built. He has curli...   \n",
       "42   IMG_7745  [Young white male with red hair and green eyes...   \n",
       "71   IMG_9379  [Wide nose[comma] short hair[comma] strong eye...   \n",
       "79   IMG_0003  [Thin diamond face[comma] thin nose[comma] rud...   \n",
       "97   IMG_9649  [SHORT AND STOCK[comma] I WOULD SAY AROUND 190...   \n",
       "102  IMG_0716  [Round face[comma] long hair[comma] and a slig...   \n",
       "113  IMG_0551  [He is a short/medium height white male. He ha...   \n",
       "120  IMG_8844  [This is an extreamly average woman. She has l...   \n",
       "164  IMG_7685  [Gorgeous young woman. Long straight blonde ha...   \n",
       "165  IMG_7653  [Man with glasses and balding blonde hair and ...   \n",
       "172  IMG_0626  [Short blonde hair[comma] blue eyes[comma] 5 f...   \n",
       "175  IMG_9514  [He is 5' 10' tall[comma] has short straight t...   \n",
       "178  IMG_8063  [This is an average height male with brown hai...   \n",
       "180  IMG_7578  [A young girl with mild acne. Has her ears pie...   \n",
       "187  IMG_7715  [They have a cleft chin[comma] full round chee...   \n",
       "\n",
       "                              face_perceived_ethnicity  \\\n",
       "10   [african, african, african, african, african, ...   \n",
       "11   [african, african, african, african, african, ...   \n",
       "19   [african, african, african, white, african, af...   \n",
       "20   [white, white, white, white, white, white, whi...   \n",
       "42   [white, white, white, white, latino, white, wh...   \n",
       "71   [white, latino, african, african, african, afr...   \n",
       "79   [white, white, white, white, white, white, whi...   \n",
       "97   [african, african, white, african, white, lati...   \n",
       "102  [african, african, african, african, african, ...   \n",
       "113  [white, white, white, white, white, white, whi...   \n",
       "120  [white, white, latino, latino, white, white, w...   \n",
       "164  [white, white, white, white, white, white, whi...   \n",
       "165  [white, white, white, white, white, white, whi...   \n",
       "172  [white, white, white, white, white, white, whi...   \n",
       "175  [african, african, white, african, african, af...   \n",
       "178  [white, white, african, african, white, africa...   \n",
       "180  [white, white, white, white, white, white, whi...   \n",
       "187  [african, african, african, african, african, ...   \n",
       "\n",
       "                      face_perceived_ethnicity-details  \\\n",
       "10                                           [Chinese]   \n",
       "11                                                  []   \n",
       "19                                                  []   \n",
       "20   [This person has European/Scandinavian roots, ...   \n",
       "42           [Irish, Irish, CHRISTIAN, Irish/Scottish]   \n",
       "71             [Iranian, Indian, Arab, unsure, Indian]   \n",
       "79                                                  []   \n",
       "97                   [INDIAN, Indian?, Middle Eastern]   \n",
       "102                            [South korean, chinese]   \n",
       "113                                                 []   \n",
       "120                                            [White]   \n",
       "164                                                 []   \n",
       "165                                        [caucasian]   \n",
       "172                                        [Caucasian]   \n",
       "175  [CHRISTIAN, Looks like half-Asian., He looks h...   \n",
       "178          [middle eastern , Middle Eastern, unsure]   \n",
       "180                                                 []   \n",
       "187                                                 []   \n",
       "\n",
       "                                    face_perceived_eye  \\\n",
       "10   [black, black, Brown, black, black, brown, bro...   \n",
       "11   [Black, Black, brown, black, Brown, brown, Bro...   \n",
       "19   [Black, Black, dark brown, brown, black, Brown...   \n",
       "20   [brown, blue, blue, brown, brown, Blue, Brown,...   \n",
       "42   [green, br, Black, green, blue, brown, green, ...   \n",
       "71   [Brown, brown, Brown, Brown, brown, Brown, bro...   \n",
       "79   [green, Brown, brown, Grey, Brown, gray, brown...   \n",
       "97   [BLACK, BROWN, black, black, brown, brown, bla...   \n",
       "102  [black, Brown, Brown, Black, black, brown, Bla...   \n",
       "113  [Blue, green, Brown, Blue, blue, Blue, Brown, ...   \n",
       "120  [Blue, brown, Black, Black, brown, blue, brown...   \n",
       "164  [blue, Blue, Blue, blue, brown, blue, blue, br...   \n",
       "165  [green, brown, Blue, Brown, Blue, blue, brown,...   \n",
       "172  [blue, green, Brown, Brown, blue, brown, brown...   \n",
       "175  [dark brown, Brown, BLACK, black, brown , brow...   \n",
       "178  [Brown, Brown, brown, black, Brown, Brown, bro...   \n",
       "180  [green, brown , blue, Hazel, hazel, blue, gree...   \n",
       "187  [Dark Brown , Black, brown, Brown, black, Brow...   \n",
       "\n",
       "                                   face_perceived_hair  \\\n",
       "10   [black, white, Black, black, black, black, bla...   \n",
       "11   [Black, Black, black, black, Black, black, Bla...   \n",
       "19   [Brown, Black, Black, good, black, black, Blac...   \n",
       "20   [blonde, blonde, blond, brown, golden blonde, ...   \n",
       "42   [red, br, Brown, red, brown, brown, orange, br...   \n",
       "71   [Black, brown, Black, Black, black, Black, bla...   \n",
       "79   [blonde, Dirty Blonde, brown, Blond, Dirty Blo...   \n",
       "97   [BLACK, BLACK, black, black, black, black, bla...   \n",
       "102  [black, Black, Black, Black, black, brown, Bla...   \n",
       "113  [Brown, brown, Brown, Brown, brown, Brown, Bro...   \n",
       "120  [Sandy Blonde, brown, Brown, Brown, brown, bro...   \n",
       "164  [Pale blonde, Blonde, Blonde, blonde, Blond, b...   \n",
       "165  [blonde, dark blond, Blonde, Blonde, Blonde, b...   \n",
       "172  [Blonde, dirty blond, Brown, Brown, blonde, di...   \n",
       "175  [black, Black, BLACK , black, black, black, bl...   \n",
       "178  [Brown, Black, black, black, Black, Brown, bla...   \n",
       "180  [brown, medium brown, blonde, Brunette, brown,...   \n",
       "187  [black , Black, black, Black, black, Black, bl...   \n",
       "\n",
       "                           face_perceived_photo-gender  \\\n",
       "10   [female, male, female, female, female, female,...   \n",
       "11   [male, male, male, male, male, male, male, mal...   \n",
       "19   [male, male, male, male, male, male, male, mal...   \n",
       "20   [male, male, male, male, male, male, male, mal...   \n",
       "42   [male, male, male, male, male, male, male, mal...   \n",
       "71   [female, female, female, female, female, femal...   \n",
       "79   [female, female, female, female, female, femal...   \n",
       "97    [male, male, male, male, male, male, male, male]   \n",
       "102  [female, female, female, female, female, femal...   \n",
       "113  [male, male, male, male, male, male, male, mal...   \n",
       "120  [female, female, female, female, female, femal...   \n",
       "164  [female, female, male, female, female, female,...   \n",
       "165  [male, male, male, male, male, male, male, mal...   \n",
       "172  [male, male, male, male, male, male, male, mal...   \n",
       "175  [male, male, male, male, male, male, male, mal...   \n",
       "178  [male, male, male, male, male, male, male, mal...   \n",
       "180  [female, female, female, female, female, femal...   \n",
       "187  [female, female, female, female, female, femal...   \n",
       "\n",
       "                                              uniqueID  glasses_mentioned  \\\n",
       "10   [35309, 80864, 18392, 10558, 55798, 57798, 594...                  0   \n",
       "11   [56196, 33585, 517, 19575, 91573, 91607, 35977...                  0   \n",
       "19   [23661, 30647, 7227, 81914, 44695, 59053, 2513...                  0   \n",
       "20   [25561, 5877, 10558, 51909, 55134, 24791, 3797...                  0   \n",
       "42   [49620, 3828, 30233, 13021, 38480, 54959, 7637...                  0   \n",
       "71   [10808, 84482, 62702, 52824, 68232, 85193, 989...                  0   \n",
       "79   [8833, 20801, 21974, 11939, 18963, 59053, 7350...                  0   \n",
       "97   [73885, 63872, 61594, 11505, 82621, 98149, 684...                  4   \n",
       "102  [33988, 83285, 82093, 68143, 94053, 15451, 552...                  0   \n",
       "113  [17678, 56210, 40164, 54347, 48915, 20993, 303...                  0   \n",
       "120  [1512, 92919, 92248, 12122, 54959, 77509, 7815...                  0   \n",
       "164  [24791, 37111, 670, 15453, 45908, 82621, 35734...                  0   \n",
       "165  [14644, 45011, 3051, 82015, 16271, 86610, 2474...                 12   \n",
       "172  [8413, 517, 43263, 49141, 9701, 517, 44695, 71...                  0   \n",
       "175  [6749, 88372, 67635, 9201, 74250, 92919, 4724,...                  0   \n",
       "178  [1512, 47072, 11639, 55257, 45350, 48755, 8460...                  0   \n",
       "180  [81420, 5628, 94008, 20690, 66029, 84856, 2759...                  0   \n",
       "187  [87824, 73780, 7340, 16148, 69543, 3147, 92253...                  0   \n",
       "\n",
       "     glasses face_gender_mode  eye_consensus_prop eye_perceived  nr_eye_col  \n",
       "10     False           female                 0.5           tie           5  \n",
       "11     False             male                 0.5           tie           4  \n",
       "19     False             male                 0.5           tie           5  \n",
       "20     False             male                 0.5           tie           6  \n",
       "42     False             male                 0.5           tie           8  \n",
       "71     False           female                 0.5           tie           4  \n",
       "79     False           female                 0.5           tie           6  \n",
       "97      True             male                 0.5           tie           4  \n",
       "102    False           female                 0.5           tie           4  \n",
       "113    False             male                 0.5           tie           5  \n",
       "120    False           female                 0.5           tie           5  \n",
       "164    False           female                 0.5           tie           5  \n",
       "165     True             male                 0.5           tie           6  \n",
       "172    False             male                 0.5           tie           7  \n",
       "175    False             male                 0.5           tie           6  \n",
       "178    False             male                 0.5           tie           3  \n",
       "180    False           female                 0.5           tie           6  \n",
       "187    False           female                 0.5           tie           5  "
      ]
     },
     "execution_count": 38,
     "metadata": {},
     "output_type": "execute_result"
    }
   ],
   "source": [
    "image_fr[image_fr.eye_perceived == 'tie']"
   ]
  }
 ],
 "metadata": {
  "kernelspec": {
   "display_name": "Python 3",
   "language": "python",
   "name": "python3"
  },
  "language_info": {
   "codemirror_mode": {
    "name": "ipython",
    "version": 3
   },
   "file_extension": ".py",
   "mimetype": "text/x-python",
   "name": "python",
   "nbconvert_exporter": "python",
   "pygments_lexer": "ipython3",
   "version": "3.6.5"
  },
  "varInspector": {
   "cols": {
    "lenName": 16,
    "lenType": 16,
    "lenVar": 40
   },
   "kernels_config": {
    "python": {
     "delete_cmd_postfix": "",
     "delete_cmd_prefix": "del ",
     "library": "var_list.py",
     "varRefreshCmd": "print(var_dic_list())"
    },
    "r": {
     "delete_cmd_postfix": ") ",
     "delete_cmd_prefix": "rm(",
     "library": "var_list.r",
     "varRefreshCmd": "cat(var_dic_list()) "
    }
   },
   "types_to_exclude": [
    "module",
    "function",
    "builtin_function_or_method",
    "instance",
    "_Feature"
   ],
   "window_display": false
  }
 },
 "nbformat": 4,
 "nbformat_minor": 2
}
