{
  "nbformat": 4,
  "nbformat_minor": 0,
  "metadata": {
    "colab": {
      "name": "Guess_who_face_embeddings",
      "version": "0.3.2",
      "provenance": [],
      "collapsed_sections": []
    },
    "kernelspec": {
      "name": "python3",
      "display_name": "Python 3"
    },
    "accelerator": "GPU"
  },
  "cells": [
    {
      "metadata": {
        "id": "Ss1pCr0cONxj",
        "colab_type": "code",
        "colab": {
          "base_uri": "https://localhost:8080/",
          "height": 136
        },
        "outputId": "29d122bd-d3f0-4f61-eb31-f80ee2ea4a8b"
      },
      "cell_type": "code",
      "source": [
        "!pip install face_recognition"
      ],
      "execution_count": 2,
      "outputs": [
        {
          "output_type": "stream",
          "text": [
            "Requirement already satisfied: face_recognition in /usr/local/lib/python3.6/dist-packages (1.2.3)\n",
            "Requirement already satisfied: Click>=6.0 in /usr/local/lib/python3.6/dist-packages (from face_recognition) (7.0)\n",
            "Requirement already satisfied: face-recognition-models>=0.3.0 in /usr/local/lib/python3.6/dist-packages (from face_recognition) (0.3.0)\n",
            "Requirement already satisfied: dlib>=19.7 in /usr/local/lib/python3.6/dist-packages (from face_recognition) (19.16.0)\n",
            "Requirement already satisfied: Pillow in /usr/local/lib/python3.6/dist-packages (from face_recognition) (4.1.1)\n",
            "Requirement already satisfied: numpy in /usr/local/lib/python3.6/dist-packages (from face_recognition) (1.14.6)\n",
            "Requirement already satisfied: olefile in /usr/local/lib/python3.6/dist-packages (from Pillow->face_recognition) (0.46)\n"
          ],
          "name": "stdout"
        }
      ]
    },
    {
      "metadata": {
        "id": "GG0NQhaYRMKD",
        "colab_type": "code",
        "colab": {}
      },
      "cell_type": "code",
      "source": [
        "import face_recognition"
      ],
      "execution_count": 0,
      "outputs": []
    },
    {
      "metadata": {
        "id": "YJw3G7EkRRpX",
        "colab_type": "code",
        "colab": {
          "base_uri": "https://localhost:8080/",
          "height": 34
        },
        "outputId": "28ff9b07-780e-47e0-9ca1-75a0ccf90e85"
      },
      "cell_type": "code",
      "source": [
        "from google.colab import drive\n",
        "drive.mount('/content/drive')"
      ],
      "execution_count": 4,
      "outputs": [
        {
          "output_type": "stream",
          "text": [
            "Drive already mounted at /content/drive; to attempt to forcibly remount, call drive.mount(\"/content/drive\", force_remount=True).\n"
          ],
          "name": "stdout"
        }
      ]
    },
    {
      "metadata": {
        "id": "7TSIQhLjRVsr",
        "colab_type": "code",
        "colab": {}
      },
      "cell_type": "code",
      "source": [
        "import pandas as pd\n",
        "import numpy as np\n",
        "import os\n",
        "from tqdm import tqdm"
      ],
      "execution_count": 0,
      "outputs": []
    },
    {
      "metadata": {
        "id": "rg5tuDniTW-G",
        "colab_type": "code",
        "colab": {}
      },
      "cell_type": "code",
      "source": [
        "img_folder = '/content/drive/My Drive/Colab/thesisfaces/guess_who_faces/small-correct-images/'"
      ],
      "execution_count": 0,
      "outputs": []
    },
    {
      "metadata": {
        "id": "6BzNRWWSTr_-",
        "colab_type": "code",
        "colab": {}
      },
      "cell_type": "code",
      "source": [
        "#list with filenames\n",
        "files = os.listdir(img_folder)"
      ],
      "execution_count": 0,
      "outputs": []
    },
    {
      "metadata": {
        "id": "oP_pIVkUUXBY",
        "colab_type": "code",
        "colab": {}
      },
      "cell_type": "code",
      "source": [
        "#sort the filenames alphabetically \n",
        "files.sort()\n"
      ],
      "execution_count": 0,
      "outputs": []
    },
    {
      "metadata": {
        "id": "14M4Ei59Wcxj",
        "colab_type": "code",
        "colab": {
          "base_uri": "https://localhost:8080/",
          "height": 34
        },
        "outputId": "84c52991-6eb8-4699-c540-16e2a0023a46"
      },
      "cell_type": "code",
      "source": [
        "files[0]"
      ],
      "execution_count": 19,
      "outputs": [
        {
          "output_type": "execute_result",
          "data": {
            "text/plain": [
              "'IMG_0003.JPG'"
            ]
          },
          "metadata": {
            "tags": []
          },
          "execution_count": 19
        }
      ]
    },
    {
      "metadata": {
        "id": "tWXzMrrEXSgK",
        "colab_type": "code",
        "colab": {
          "base_uri": "https://localhost:8080/",
          "height": 34
        },
        "outputId": "83e3441b-1e97-421d-9709-59813d6cf782"
      },
      "cell_type": "code",
      "source": [
        "img_folder + files[0]"
      ],
      "execution_count": 21,
      "outputs": [
        {
          "output_type": "execute_result",
          "data": {
            "text/plain": [
              "'/content/drive/My Drive/Colab/thesisfaces/guess_who_faces/small-correct-images/IMG_0003.JPG'"
            ]
          },
          "metadata": {
            "tags": []
          },
          "execution_count": 21
        }
      ]
    },
    {
      "metadata": {
        "id": "0PZbWDhlWvgb",
        "colab_type": "code",
        "colab": {
          "base_uri": "https://localhost:8080/",
          "height": 51
        },
        "outputId": "3924d089-85d2-4d03-9cd2-a0d28c8d15b9"
      },
      "cell_type": "code",
      "source": [
        "thesis_embed_list = []\n",
        "file_list = []\n",
        "\n",
        "thesis_embed_numpy = np.zeros((0,128))\n",
        "\n",
        "for file in tqdm(files):\n",
        "  img_path = img_folder + file\n",
        "  \n",
        "  #load image\n",
        "  img = face_recognition.load_image_file(img_path)\n",
        "  \n",
        "  #locate face in image, use the cnn method\n",
        "  face_loc = face_recognition.face_locations(img, model='cnn')\n",
        "  \n",
        "  #if no face or more than one face is detected, print error and try the hog model\n",
        "  if len(face_loc) != 1:\n",
        "    print(\"error for: \" + file + \" number of faces detected: \" + str(len(face_loc)) )\n",
        "    face_loc = face_recognition.face_locations(img, model='hog')\n",
        "    \n",
        "  #encode face to 128d embedding\n",
        "  embedding = face_recognition.face_encodings(img, known_face_locations=face_loc)[0]\n",
        "  \n",
        "  #append to list\n",
        "  thesis_embed_list.append(embedding)\n",
        "  file_list.append(file)\n",
        "  \n",
        "  \n",
        "  \n",
        "  "
      ],
      "execution_count": 60,
      "outputs": [
        {
          "output_type": "stream",
          "text": [
            " 47%|████▋     | 91/193 [00:08<00:09, 10.84it/s]"
          ],
          "name": "stderr"
        },
        {
          "output_type": "stream",
          "text": [
            "error for: IMG_8123.JPG number of faces detected: 2\n"
          ],
          "name": "stdout"
        },
        {
          "output_type": "stream",
          "text": [
            "100%|██████████| 193/193 [00:18<00:00, 10.76it/s]\n"
          ],
          "name": "stderr"
        }
      ]
    },
    {
      "metadata": {
        "id": "N_JZDsREb2YY",
        "colab_type": "code",
        "colab": {
          "base_uri": "https://localhost:8080/",
          "height": 34
        },
        "outputId": "fdb50a9e-d2a4-4be1-af9b-3355eea2b325"
      },
      "cell_type": "code",
      "source": [
        "len(thesis_embed_list)"
      ],
      "execution_count": 57,
      "outputs": [
        {
          "output_type": "execute_result",
          "data": {
            "text/plain": [
              "193"
            ]
          },
          "metadata": {
            "tags": []
          },
          "execution_count": 57
        }
      ]
    },
    {
      "metadata": {
        "id": "weOw5bl2ZXI6",
        "colab_type": "code",
        "colab": {}
      },
      "cell_type": "code",
      "source": [
        "import pickle\n",
        "\n",
        "with open('thesis_embeddings_ordered.pkl', 'wb') as f:\n",
        "  pickle.dump(thesis_embed_list, f)"
      ],
      "execution_count": 0,
      "outputs": []
    }
  ]
}