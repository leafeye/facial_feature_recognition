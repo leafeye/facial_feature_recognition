{
  "nbformat": 4,
  "nbformat_minor": 0,
  "metadata": {
    "colab": {
      "name": "lfwa_training_models.ipynb",
      "version": "0.3.2",
      "provenance": []
    },
    "kernelspec": {
      "name": "python3",
      "display_name": "Python 3"
    },
    "accelerator": "GPU"
  },
  "cells": [
    {
      "metadata": {
        "id": "BGTS234PQiMv",
        "colab_type": "code",
        "colab": {}
      },
      "cell_type": "code",
      "source": [
        "import pandas as pd\n",
        "import numpy as np\n",
        "import matplotlib.pyplot as plt\n",
        "import pickle"
      ],
      "execution_count": 0,
      "outputs": []
    },
    {
      "metadata": {
        "id": "68tA35CEQ0Br",
        "colab_type": "code",
        "colab": {}
      },
      "cell_type": "code",
      "source": [
        "from sklearn.model_selection import train_test_split\n",
        "from sklearn.linear_model import SGDClassifier\n",
        "\n",
        "from sklearn.metrics import accuracy_score\n",
        "from sklearn.metrics import confusion_matrix\n",
        "from sklearn.metrics import classification_report\n",
        "\n",
        "from sklearn.metrics import roc_curve"
      ],
      "execution_count": 0,
      "outputs": []
    },
    {
      "metadata": {
        "id": "ZQJYJK3sQ34y",
        "colab_type": "code",
        "outputId": "4df621c2-7090-478b-c0bd-8f177e6fd238",
        "colab": {
          "base_uri": "https://localhost:8080/",
          "height": 34
        }
      },
      "cell_type": "code",
      "source": [
        "import keras\n",
        "from keras import models\n",
        "from keras import layers\n",
        "\n",
        "from keras.utils import to_categorical"
      ],
      "execution_count": 0,
      "outputs": [
        {
          "output_type": "stream",
          "text": [
            "Using TensorFlow backend.\n"
          ],
          "name": "stderr"
        }
      ]
    },
    {
      "metadata": {
        "id": "PTcaUC7zQ6k5",
        "colab_type": "code",
        "outputId": "40f79e2f-8636-4adc-9e21-b89d6fd06549",
        "colab": {
          "base_uri": "https://localhost:8080/",
          "height": 122
        }
      },
      "cell_type": "code",
      "source": [
        "from google.colab import drive\n",
        "drive.mount('/content/drive')"
      ],
      "execution_count": 0,
      "outputs": [
        {
          "output_type": "stream",
          "text": [
            "Go to this URL in a browser: https://accounts.google.com/o/oauth2/auth?client_id=947318989803-6bn6qk8qdgf4n4g3pfee6491hc0brc4i.apps.googleusercontent.com&redirect_uri=urn%3Aietf%3Awg%3Aoauth%3A2.0%3Aoob&scope=email%20https%3A%2F%2Fwww.googleapis.com%2Fauth%2Fdocs.test%20https%3A%2F%2Fwww.googleapis.com%2Fauth%2Fdrive%20https%3A%2F%2Fwww.googleapis.com%2Fauth%2Fdrive.photos.readonly%20https%3A%2F%2Fwww.googleapis.com%2Fauth%2Fpeopleapi.readonly&response_type=code\n",
            "\n",
            "Enter your authorization code:\n",
            "··········\n",
            "Mounted at /content/drive\n"
          ],
          "name": "stdout"
        }
      ]
    },
    {
      "metadata": {
        "id": "SyugQHYeRE1T",
        "colab_type": "code",
        "colab": {}
      },
      "cell_type": "code",
      "source": [
        "eyes_df = pd.read_csv('/content/drive/My Drive/Colab/thesis/lfwa/lfwa_eyes_dataset.csv')"
      ],
      "execution_count": 0,
      "outputs": []
    },
    {
      "metadata": {
        "id": "wxUyepnaSAIv",
        "colab_type": "code",
        "outputId": "db975af1-4ef5-4d9e-bd35-79343e999b75",
        "colab": {
          "base_uri": "https://localhost:8080/",
          "height": 111
        }
      },
      "cell_type": "code",
      "source": [
        "eyes_df.head(2)"
      ],
      "execution_count": 0,
      "outputs": [
        {
          "output_type": "execute_result",
          "data": {
            "text/html": [
              "<div>\n",
              "<style scoped>\n",
              "    .dataframe tbody tr th:only-of-type {\n",
              "        vertical-align: middle;\n",
              "    }\n",
              "\n",
              "    .dataframe tbody tr th {\n",
              "        vertical-align: top;\n",
              "    }\n",
              "\n",
              "    .dataframe thead th {\n",
              "        text-align: right;\n",
              "    }\n",
              "</style>\n",
              "<table border=\"1\" class=\"dataframe\">\n",
              "  <thead>\n",
              "    <tr style=\"text-align: right;\">\n",
              "      <th></th>\n",
              "      <th>encodings</th>\n",
              "      <th>file</th>\n",
              "      <th>Brown Eyes</th>\n",
              "    </tr>\n",
              "  </thead>\n",
              "  <tbody>\n",
              "    <tr>\n",
              "      <th>0</th>\n",
              "      <td>[-0.07891007  0.17634775  0.00748135 -0.147872...</td>\n",
              "      <td>Aaron_Eckhart/Aaron_Eckhart_0001.jpg</td>\n",
              "      <td>0.0</td>\n",
              "    </tr>\n",
              "    <tr>\n",
              "      <th>1</th>\n",
              "      <td>[-9.60119069e-03  9.91584584e-02  3.57892364e-...</td>\n",
              "      <td>Aaron_Guiel/Aaron_Guiel_0001.jpg</td>\n",
              "      <td>0.0</td>\n",
              "    </tr>\n",
              "  </tbody>\n",
              "</table>\n",
              "</div>"
            ],
            "text/plain": [
              "                                           encodings  \\\n",
              "0  [-0.07891007  0.17634775  0.00748135 -0.147872...   \n",
              "1  [-9.60119069e-03  9.91584584e-02  3.57892364e-...   \n",
              "\n",
              "                                   file  Brown Eyes  \n",
              "0  Aaron_Eckhart/Aaron_Eckhart_0001.jpg         0.0  \n",
              "1      Aaron_Guiel/Aaron_Guiel_0001.jpg         0.0  "
            ]
          },
          "metadata": {
            "tags": []
          },
          "execution_count": 9
        }
      ]
    },
    {
      "metadata": {
        "id": "CD-X2J89SRie",
        "colab_type": "code",
        "outputId": "f69e1e21-3c7c-4dd4-cce6-9df6e2991f1b",
        "colab": {
          "base_uri": "https://localhost:8080/",
          "height": 68
        }
      },
      "cell_type": "code",
      "source": [
        "eyes_df['Brown Eyes'].value_counts()"
      ],
      "execution_count": 0,
      "outputs": [
        {
          "output_type": "execute_result",
          "data": {
            "text/plain": [
              "1.0    8092\n",
              "0.0    4260\n",
              "Name: Brown Eyes, dtype: int64"
            ]
          },
          "metadata": {
            "tags": []
          },
          "execution_count": 15
        }
      ]
    },
    {
      "metadata": {
        "id": "v-Y_bqsASCuy",
        "colab_type": "code",
        "colab": {}
      },
      "cell_type": "code",
      "source": [
        "eyes = eyes_df['Brown Eyes'].values.astype(int)"
      ],
      "execution_count": 0,
      "outputs": []
    },
    {
      "metadata": {
        "id": "y1ryvGRPSIre",
        "colab_type": "code",
        "outputId": "31321ff7-cd0f-4ecb-fdd1-9cd84bd78873",
        "colab": {
          "base_uri": "https://localhost:8080/",
          "height": 34
        }
      },
      "cell_type": "code",
      "source": [
        "eyes"
      ],
      "execution_count": 0,
      "outputs": [
        {
          "output_type": "execute_result",
          "data": {
            "text/plain": [
              "array([0, 0, 1, ..., 1, 1, 1])"
            ]
          },
          "metadata": {
            "tags": []
          },
          "execution_count": 14
        }
      ]
    },
    {
      "metadata": {
        "id": "BCwyhw5ySPPL",
        "colab_type": "code",
        "colab": {}
      },
      "cell_type": "code",
      "source": [
        ""
      ],
      "execution_count": 0,
      "outputs": []
    },
    {
      "metadata": {
        "id": "iAsGlacmRgWX",
        "colab_type": "code",
        "colab": {}
      },
      "cell_type": "code",
      "source": [
        "eyes_emb = eyes_df.encodings\n",
        "\n",
        "eyes_emb = (eyes_emb\n",
        " .str.replace('\\n','')\n",
        " .str.replace('\\r','')\n",
        " .str.replace('[','')\n",
        " .str.replace(']','')\n",
        " .str.split())\n",
        "\n",
        "eyes_emb_lists = eyes_emb.tolist()\n",
        "eyes_emb_npy = np.asarray(eyes_emb_lists)\n",
        "eyes_emb_npy = eyes_emb_npy.astype(np.float)"
      ],
      "execution_count": 0,
      "outputs": []
    },
    {
      "metadata": {
        "id": "_LcLSXbCR0-G",
        "colab_type": "code",
        "outputId": "b0acf250-1f56-4107-aceb-3860de3a009b",
        "colab": {
          "base_uri": "https://localhost:8080/",
          "height": 34
        }
      },
      "cell_type": "code",
      "source": [
        "eyes_emb_npy.shape"
      ],
      "execution_count": 0,
      "outputs": [
        {
          "output_type": "execute_result",
          "data": {
            "text/plain": [
              "(12352, 128)"
            ]
          },
          "metadata": {
            "tags": []
          },
          "execution_count": 7
        }
      ]
    },
    {
      "metadata": {
        "id": "za0uxu2kR9_M",
        "colab_type": "code",
        "outputId": "6c30d431-e205-4986-d879-96077bebc8b9",
        "colab": {
          "base_uri": "https://localhost:8080/",
          "height": 119
        }
      },
      "cell_type": "code",
      "source": [
        "X_train,X_test,y_train,y_test = train_test_split(eyes_emb_npy, eyes,test_size=0.25,random_state=91, stratify=eyes)\n",
        "\n",
        "print('train')\n",
        "print(X_train.shape)\n",
        "print(y_train.shape)\n",
        "\n",
        "print('test')\n",
        "print(X_test.shape)\n",
        "print(y_test.shape)"
      ],
      "execution_count": 0,
      "outputs": [
        {
          "output_type": "stream",
          "text": [
            "train\n",
            "(9264, 128)\n",
            "(9264,)\n",
            "test\n",
            "(3088, 128)\n",
            "(3088,)\n"
          ],
          "name": "stdout"
        }
      ]
    },
    {
      "metadata": {
        "id": "q-64NJtlSeWc",
        "colab_type": "code",
        "outputId": "7c97af0d-b0cb-4a3c-a6e9-2d1f85a555e6",
        "colab": {
          "base_uri": "https://localhost:8080/",
          "height": 275
        }
      },
      "cell_type": "code",
      "source": [
        "model = SGDClassifier(loss='log', random_state=91, max_iter=40)\n",
        "model.fit(X_train, y_train)\n",
        "\n",
        "y_pred = model.predict(X_test)\n",
        "print(\"{:.3}\".format(accuracy_score(y_test, y_pred)))\n",
        "\n",
        "print(classification_report(y_test,y_pred))\n",
        "\n",
        "print(confusion_matrix(y_test,y_pred))"
      ],
      "execution_count": 0,
      "outputs": [
        {
          "output_type": "stream",
          "text": [
            "/usr/local/lib/python3.6/dist-packages/sklearn/linear_model/stochastic_gradient.py:183: FutureWarning: max_iter and tol parameters have been added in SGDClassifier in 0.19. If max_iter is set but tol is left unset, the default value for tol in 0.19 and 0.20 will be None (which is equivalent to -infinity, so it has no effect) but will change in 0.21 to 1e-3. Specify tol to silence this warning.\n",
            "  FutureWarning)\n"
          ],
          "name": "stderr"
        },
        {
          "output_type": "stream",
          "text": [
            "0.706\n",
            "              precision    recall  f1-score   support\n",
            "\n",
            "           0       0.57      0.56      0.57      1065\n",
            "           1       0.77      0.78      0.78      2023\n",
            "\n",
            "   micro avg       0.71      0.71      0.71      3088\n",
            "   macro avg       0.67      0.67      0.67      3088\n",
            "weighted avg       0.70      0.71      0.70      3088\n",
            "\n",
            "[[ 601  464]\n",
            " [ 445 1578]]\n"
          ],
          "name": "stdout"
        }
      ]
    },
    {
      "metadata": {
        "id": "rgtSy5-8SuPk",
        "colab_type": "code",
        "outputId": "ee21f091-a1d6-4446-f843-7bc838eb76bf",
        "colab": {
          "base_uri": "https://localhost:8080/",
          "height": 275
        }
      },
      "cell_type": "code",
      "source": [
        "model = SGDClassifier(loss='hinge', random_state=91, max_iter=100)\n",
        "model.fit(X_train, y_train)\n",
        "\n",
        "y_pred = model.predict(X_test)\n",
        "print(\"{:.3}\".format(accuracy_score(y_test, y_pred)))\n",
        "\n",
        "print(classification_report(y_test,y_pred))\n",
        "\n",
        "print(confusion_matrix(y_test,y_pred))"
      ],
      "execution_count": 0,
      "outputs": [
        {
          "output_type": "stream",
          "text": [
            "/usr/local/lib/python3.6/dist-packages/sklearn/linear_model/stochastic_gradient.py:183: FutureWarning: max_iter and tol parameters have been added in SGDClassifier in 0.19. If max_iter is set but tol is left unset, the default value for tol in 0.19 and 0.20 will be None (which is equivalent to -infinity, so it has no effect) but will change in 0.21 to 1e-3. Specify tol to silence this warning.\n",
            "  FutureWarning)\n"
          ],
          "name": "stderr"
        },
        {
          "output_type": "stream",
          "text": [
            "0.699\n",
            "              precision    recall  f1-score   support\n",
            "\n",
            "           0       0.56      0.62      0.59      1065\n",
            "           1       0.79      0.74      0.76      2023\n",
            "\n",
            "   micro avg       0.70      0.70      0.70      3088\n",
            "   macro avg       0.67      0.68      0.67      3088\n",
            "weighted avg       0.71      0.70      0.70      3088\n",
            "\n",
            "[[ 657  408]\n",
            " [ 522 1501]]\n"
          ],
          "name": "stdout"
        }
      ]
    },
    {
      "metadata": {
        "id": "HpQcCyQpTGvv",
        "colab_type": "code",
        "outputId": "54e5c936-5aac-4990-aa4a-8fee7402ec53",
        "colab": {
          "base_uri": "https://localhost:8080/",
          "height": 1394
        }
      },
      "cell_type": "code",
      "source": [
        "\n",
        "\n",
        "#optimizers.RMSprop(lr=1e-4)\n",
        "\n",
        "hidden = 100\n",
        "\n",
        "network = models.Sequential()\n",
        "network.add(layers.Dense(hidden, use_bias='true', activation='relu', input_shape=(128,)))\n",
        "network.add(layers.Dense(1, use_bias='true', activation='sigmoid'))\n",
        "\n",
        "keras.initializers.RandomNormal(mean=0.0, stddev=0.05)\n",
        "\n",
        "#keras.optimizers.SGD(lr=0.001, momentum=0.0, decay=0.0, nesterov=False)\n",
        "\n",
        "network.compile(optimizer=keras.optimizers.Adam(lr=0.001, beta_1=0.9, beta_2=0.999, epsilon=None, decay=0.0, amsgrad=False),\n",
        "                loss='binary_crossentropy',\n",
        "                metrics=['accuracy'])\n",
        "\n",
        "network.fit(X_train, y_train, epochs=40, batch_size=30)"
      ],
      "execution_count": 0,
      "outputs": [
        {
          "output_type": "stream",
          "text": [
            "Epoch 1/40\n",
            "9264/9264 [==============================] - 1s 147us/step - loss: 0.5948 - acc: 0.6726\n",
            "Epoch 2/40\n",
            "9264/9264 [==============================] - 1s 122us/step - loss: 0.5539 - acc: 0.6999\n",
            "Epoch 3/40\n",
            "9264/9264 [==============================] - 1s 136us/step - loss: 0.5475 - acc: 0.7041\n",
            "Epoch 4/40\n",
            "9264/9264 [==============================] - 1s 137us/step - loss: 0.5423 - acc: 0.7122\n",
            "Epoch 5/40\n",
            "9264/9264 [==============================] - 1s 134us/step - loss: 0.5398 - acc: 0.7152\n",
            "Epoch 6/40\n",
            "9264/9264 [==============================] - 1s 131us/step - loss: 0.5368 - acc: 0.7176\n",
            "Epoch 7/40\n",
            "9264/9264 [==============================] - 1s 132us/step - loss: 0.5349 - acc: 0.7213\n",
            "Epoch 8/40\n",
            "9264/9264 [==============================] - 1s 132us/step - loss: 0.5342 - acc: 0.7229\n",
            "Epoch 9/40\n",
            "9264/9264 [==============================] - 1s 134us/step - loss: 0.5307 - acc: 0.7250\n",
            "Epoch 10/40\n",
            "9264/9264 [==============================] - 1s 138us/step - loss: 0.5290 - acc: 0.7288\n",
            "Epoch 11/40\n",
            "9264/9264 [==============================] - 1s 133us/step - loss: 0.5259 - acc: 0.7266\n",
            "Epoch 12/40\n",
            "9264/9264 [==============================] - 1s 132us/step - loss: 0.5241 - acc: 0.7308\n",
            "Epoch 13/40\n",
            "9264/9264 [==============================] - 1s 131us/step - loss: 0.5235 - acc: 0.7308\n",
            "Epoch 14/40\n",
            "9264/9264 [==============================] - 1s 131us/step - loss: 0.5210 - acc: 0.7316\n",
            "Epoch 15/40\n",
            "9264/9264 [==============================] - 1s 129us/step - loss: 0.5193 - acc: 0.7356\n",
            "Epoch 16/40\n",
            "9264/9264 [==============================] - 1s 129us/step - loss: 0.5158 - acc: 0.7351\n",
            "Epoch 17/40\n",
            "9264/9264 [==============================] - 1s 128us/step - loss: 0.5142 - acc: 0.7369\n",
            "Epoch 18/40\n",
            "9264/9264 [==============================] - 1s 129us/step - loss: 0.5114 - acc: 0.7390\n",
            "Epoch 19/40\n",
            "9264/9264 [==============================] - 1s 129us/step - loss: 0.5101 - acc: 0.7386\n",
            "Epoch 20/40\n",
            "9264/9264 [==============================] - 1s 129us/step - loss: 0.5082 - acc: 0.7457\n",
            "Epoch 21/40\n",
            "9264/9264 [==============================] - 1s 130us/step - loss: 0.5069 - acc: 0.7435\n",
            "Epoch 22/40\n",
            "9264/9264 [==============================] - 1s 131us/step - loss: 0.5049 - acc: 0.7463\n",
            "Epoch 23/40\n",
            "9264/9264 [==============================] - 1s 130us/step - loss: 0.5046 - acc: 0.7458\n",
            "Epoch 24/40\n",
            "9264/9264 [==============================] - 1s 129us/step - loss: 0.5028 - acc: 0.7475\n",
            "Epoch 25/40\n",
            "9264/9264 [==============================] - 1s 130us/step - loss: 0.5006 - acc: 0.7508\n",
            "Epoch 26/40\n",
            "9264/9264 [==============================] - 1s 131us/step - loss: 0.4985 - acc: 0.7497\n",
            "Epoch 27/40\n",
            "9264/9264 [==============================] - 1s 137us/step - loss: 0.4971 - acc: 0.7476\n",
            "Epoch 28/40\n",
            "9264/9264 [==============================] - 1s 135us/step - loss: 0.4936 - acc: 0.7552\n",
            "Epoch 29/40\n",
            "9264/9264 [==============================] - 1s 132us/step - loss: 0.4942 - acc: 0.7543\n",
            "Epoch 30/40\n",
            "9264/9264 [==============================] - 1s 134us/step - loss: 0.4906 - acc: 0.7558\n",
            "Epoch 31/40\n",
            "9264/9264 [==============================] - 1s 135us/step - loss: 0.4880 - acc: 0.7582\n",
            "Epoch 32/40\n",
            "9264/9264 [==============================] - 1s 134us/step - loss: 0.4874 - acc: 0.7598\n",
            "Epoch 33/40\n",
            "9264/9264 [==============================] - 1s 130us/step - loss: 0.4877 - acc: 0.7569\n",
            "Epoch 34/40\n",
            "9264/9264 [==============================] - 1s 130us/step - loss: 0.4839 - acc: 0.7609\n",
            "Epoch 35/40\n",
            "9264/9264 [==============================] - 1s 129us/step - loss: 0.4831 - acc: 0.7621\n",
            "Epoch 36/40\n",
            "9264/9264 [==============================] - 1s 128us/step - loss: 0.4809 - acc: 0.7619\n",
            "Epoch 37/40\n",
            "9264/9264 [==============================] - 1s 132us/step - loss: 0.4794 - acc: 0.7646\n",
            "Epoch 38/40\n",
            "9264/9264 [==============================] - 1s 130us/step - loss: 0.4775 - acc: 0.7630\n",
            "Epoch 39/40\n",
            "9264/9264 [==============================] - 1s 131us/step - loss: 0.4781 - acc: 0.7653\n",
            "Epoch 40/40\n",
            "9264/9264 [==============================] - 1s 129us/step - loss: 0.4754 - acc: 0.7667\n"
          ],
          "name": "stdout"
        },
        {
          "output_type": "execute_result",
          "data": {
            "text/plain": [
              "<keras.callbacks.History at 0x7fe6c82b50b8>"
            ]
          },
          "metadata": {
            "tags": []
          },
          "execution_count": 24
        }
      ]
    },
    {
      "metadata": {
        "id": "Ilk745smUKgv",
        "colab_type": "code",
        "outputId": "cdc8ef88-5dfe-4a69-d16a-5df84f596f6b",
        "colab": {
          "base_uri": "https://localhost:8080/",
          "height": 221
        }
      },
      "cell_type": "code",
      "source": [
        "y_pred = network.predict(X_test)\n",
        "y_pred = (y_pred > 0.5)\n",
        "#score = network.predict_proba(X_test)\n",
        "\n",
        "print(\"{:.3}\".format(accuracy_score(y_test, y_pred)))\n",
        "print(classification_report(y_test,y_pred))\n",
        "\n",
        "print(confusion_matrix(y_test,y_pred))"
      ],
      "execution_count": 0,
      "outputs": [
        {
          "output_type": "stream",
          "text": [
            "0.711\n",
            "              precision    recall  f1-score   support\n",
            "\n",
            "           0       0.58      0.58      0.58      1065\n",
            "           1       0.78      0.78      0.78      2023\n",
            "\n",
            "   micro avg       0.71      0.71      0.71      3088\n",
            "   macro avg       0.68      0.68      0.68      3088\n",
            "weighted avg       0.71      0.71      0.71      3088\n",
            "\n",
            "[[ 620  445]\n",
            " [ 446 1577]]\n"
          ],
          "name": "stdout"
        }
      ]
    },
    {
      "metadata": {
        "id": "O6jacyirVETj",
        "colab_type": "code",
        "colab": {}
      },
      "cell_type": "code",
      "source": [
        ""
      ],
      "execution_count": 0,
      "outputs": []
    },
    {
      "metadata": {
        "id": "Wh-qxHaCVEnm",
        "colab_type": "text"
      },
      "cell_type": "markdown",
      "source": [
        "# ethn"
      ]
    },
    {
      "metadata": {
        "id": "UUYmunJXVCzZ",
        "colab_type": "code",
        "colab": {}
      },
      "cell_type": "code",
      "source": [
        "ethndf = pd.read_csv('/content/drive/My Drive/Colab/thesis/lfwa/lfwa_ethn_dataset.csv')"
      ],
      "execution_count": 0,
      "outputs": []
    },
    {
      "metadata": {
        "id": "W9E9brtKVN0h",
        "colab_type": "code",
        "outputId": "1bfb8dcd-3fa3-4758-c548-ab2ba278623f",
        "colab": {
          "base_uri": "https://localhost:8080/",
          "height": 145
        }
      },
      "cell_type": "code",
      "source": [
        "ethndf.head(2)"
      ],
      "execution_count": 0,
      "outputs": [
        {
          "output_type": "execute_result",
          "data": {
            "text/html": [
              "<div>\n",
              "<style scoped>\n",
              "    .dataframe tbody tr th:only-of-type {\n",
              "        vertical-align: middle;\n",
              "    }\n",
              "\n",
              "    .dataframe tbody tr th {\n",
              "        vertical-align: top;\n",
              "    }\n",
              "\n",
              "    .dataframe thead th {\n",
              "        text-align: right;\n",
              "    }\n",
              "</style>\n",
              "<table border=\"1\" class=\"dataframe\">\n",
              "  <thead>\n",
              "    <tr style=\"text-align: right;\">\n",
              "      <th></th>\n",
              "      <th>encodings</th>\n",
              "      <th>file</th>\n",
              "      <th>Asian</th>\n",
              "      <th>White</th>\n",
              "      <th>Black</th>\n",
              "      <th>Indian</th>\n",
              "      <th>score</th>\n",
              "      <th>ethnicity</th>\n",
              "    </tr>\n",
              "  </thead>\n",
              "  <tbody>\n",
              "    <tr>\n",
              "      <th>0</th>\n",
              "      <td>[-0.07891007  0.17634775  0.00748135 -0.147872...</td>\n",
              "      <td>Aaron_Eckhart/Aaron_Eckhart_0001.jpg</td>\n",
              "      <td>0.0</td>\n",
              "      <td>1.0</td>\n",
              "      <td>0.0</td>\n",
              "      <td>0.0</td>\n",
              "      <td>100</td>\n",
              "      <td>white</td>\n",
              "    </tr>\n",
              "    <tr>\n",
              "      <th>1</th>\n",
              "      <td>[-9.60119069e-03  9.91584584e-02  3.57892364e-...</td>\n",
              "      <td>Aaron_Guiel/Aaron_Guiel_0001.jpg</td>\n",
              "      <td>0.0</td>\n",
              "      <td>1.0</td>\n",
              "      <td>0.0</td>\n",
              "      <td>0.0</td>\n",
              "      <td>100</td>\n",
              "      <td>white</td>\n",
              "    </tr>\n",
              "  </tbody>\n",
              "</table>\n",
              "</div>"
            ],
            "text/plain": [
              "                                           encodings  \\\n",
              "0  [-0.07891007  0.17634775  0.00748135 -0.147872...   \n",
              "1  [-9.60119069e-03  9.91584584e-02  3.57892364e-...   \n",
              "\n",
              "                                   file  Asian  White  Black  Indian  score  \\\n",
              "0  Aaron_Eckhart/Aaron_Eckhart_0001.jpg    0.0    1.0    0.0     0.0    100   \n",
              "1      Aaron_Guiel/Aaron_Guiel_0001.jpg    0.0    1.0    0.0     0.0    100   \n",
              "\n",
              "  ethnicity  \n",
              "0     white  \n",
              "1     white  "
            ]
          },
          "metadata": {
            "tags": []
          },
          "execution_count": 27
        }
      ]
    },
    {
      "metadata": {
        "id": "fXMJsMAIVToe",
        "colab_type": "code",
        "colab": {}
      },
      "cell_type": "code",
      "source": [
        "ethn = ethndf.ethnicity.values"
      ],
      "execution_count": 0,
      "outputs": []
    },
    {
      "metadata": {
        "id": "mcOzuxUQVbZr",
        "colab_type": "code",
        "colab": {}
      },
      "cell_type": "code",
      "source": [
        "ethn_emb = ethndf.encodings\n",
        "\n",
        "ethn_emb = (ethn_emb\n",
        " .str.replace('\\n','')\n",
        " .str.replace('\\r','')\n",
        " .str.replace('[','')\n",
        " .str.replace(']','')\n",
        " .str.split())\n",
        "\n",
        "ethn_emb_lists = ethn_emb.tolist()\n",
        "ethn_emb_npy = np.asarray(ethn_emb_lists)\n",
        "ethn_emb_npy = ethn_emb_npy.astype(np.float)"
      ],
      "execution_count": 0,
      "outputs": []
    },
    {
      "metadata": {
        "id": "CnSbjMsGVxNL",
        "colab_type": "code",
        "outputId": "403ac323-8536-45c0-81b0-a187c0bae671",
        "colab": {
          "base_uri": "https://localhost:8080/",
          "height": 187
        }
      },
      "cell_type": "code",
      "source": [
        "X_train,X_test,y_train,y_test = train_test_split(ethn_emb_npy, ethn,test_size=0.25,random_state=91, stratify=ethn)\n",
        "\n",
        "print('train')\n",
        "print(X_train.shape)\n",
        "print(y_train.shape)\n",
        "\n",
        "print('test')\n",
        "print(X_test.shape)\n",
        "print(y_test.shape)\n",
        "\n",
        "unique, counts = np.unique(y_train, return_counts=True)\n",
        "print(np.asarray((unique, counts)).T)"
      ],
      "execution_count": 0,
      "outputs": [
        {
          "output_type": "stream",
          "text": [
            "train\n",
            "(7827, 128)\n",
            "(7827,)\n",
            "test\n",
            "(2609, 128)\n",
            "(2609,)\n",
            "[['asian' 614]\n",
            " ['black' 337]\n",
            " ['idnian' 131]\n",
            " ['white' 6745]]\n"
          ],
          "name": "stdout"
        }
      ]
    },
    {
      "metadata": {
        "id": "LPlbfSSdV6wq",
        "colab_type": "code",
        "outputId": "897ec189-4149-42ca-830a-35d1f5e6c1fa",
        "colab": {
          "base_uri": "https://localhost:8080/",
          "height": 343
        }
      },
      "cell_type": "code",
      "source": [
        "model = SGDClassifier(loss='log', random_state=91, max_iter=30)\n",
        "model.fit(X_train, y_train)\n",
        "\n",
        "y_pred = model.predict(X_test)\n",
        "print(\"{:.3}\".format(accuracy_score(y_test, y_pred)))\n",
        "\n",
        "print(classification_report(y_test,y_pred))\n",
        "\n",
        "print(confusion_matrix(y_test,y_pred))"
      ],
      "execution_count": 0,
      "outputs": [
        {
          "output_type": "stream",
          "text": [
            "/usr/local/lib/python3.6/dist-packages/sklearn/linear_model/stochastic_gradient.py:183: FutureWarning: max_iter and tol parameters have been added in SGDClassifier in 0.19. If max_iter is set but tol is left unset, the default value for tol in 0.19 and 0.20 will be None (which is equivalent to -infinity, so it has no effect) but will change in 0.21 to 1e-3. Specify tol to silence this warning.\n",
            "  FutureWarning)\n"
          ],
          "name": "stderr"
        },
        {
          "output_type": "stream",
          "text": [
            "0.952\n",
            "              precision    recall  f1-score   support\n",
            "\n",
            "       asian       0.89      0.80      0.84       205\n",
            "       black       0.89      0.84      0.86       112\n",
            "      idnian       1.00      0.05      0.09        44\n",
            "       white       0.96      0.99      0.97      2248\n",
            "\n",
            "   micro avg       0.95      0.95      0.95      2609\n",
            "   macro avg       0.93      0.67      0.69      2609\n",
            "weighted avg       0.95      0.95      0.94      2609\n",
            "\n",
            "[[ 163    2    0   40]\n",
            " [   3   94    0   15]\n",
            " [   3    1    2   38]\n",
            " [  15    9    0 2224]]\n"
          ],
          "name": "stdout"
        }
      ]
    },
    {
      "metadata": {
        "id": "M9IxWfdzWLEi",
        "colab_type": "code",
        "outputId": "60e562c7-bf3e-433b-e7c4-d36b2b618382",
        "colab": {
          "base_uri": "https://localhost:8080/",
          "height": 377
        }
      },
      "cell_type": "code",
      "source": [
        "model = SGDClassifier(loss='hinge', random_state=91, max_iter=100)\n",
        "model.fit(X_train, y_train)\n",
        "\n",
        "y_pred = model.predict(X_test)\n",
        "print(\"{:.3}\".format(accuracy_score(y_test, y_pred)))\n",
        "\n",
        "print(classification_report(y_test,y_pred))\n",
        "\n",
        "print(confusion_matrix(y_test,y_pred))"
      ],
      "execution_count": 0,
      "outputs": [
        {
          "output_type": "stream",
          "text": [
            "/usr/local/lib/python3.6/dist-packages/sklearn/linear_model/stochastic_gradient.py:183: FutureWarning: max_iter and tol parameters have been added in SGDClassifier in 0.19. If max_iter is set but tol is left unset, the default value for tol in 0.19 and 0.20 will be None (which is equivalent to -infinity, so it has no effect) but will change in 0.21 to 1e-3. Specify tol to silence this warning.\n",
            "  FutureWarning)\n"
          ],
          "name": "stderr"
        },
        {
          "output_type": "stream",
          "text": [
            "0.952\n",
            "              precision    recall  f1-score   support\n",
            "\n",
            "       asian       0.91      0.79      0.85       205\n",
            "       black       0.87      0.87      0.87       112\n",
            "      idnian       0.00      0.00      0.00        44\n",
            "       white       0.96      0.99      0.97      2248\n",
            "\n",
            "   micro avg       0.95      0.95      0.95      2609\n",
            "   macro avg       0.68      0.66      0.67      2609\n",
            "weighted avg       0.94      0.95      0.94      2609\n",
            "\n",
            "[[ 162    3    0   40]\n",
            " [   2   97    0   13]\n",
            " [   3    1    0   40]\n",
            " [  11   11    0 2226]]\n"
          ],
          "name": "stdout"
        },
        {
          "output_type": "stream",
          "text": [
            "/usr/local/lib/python3.6/dist-packages/sklearn/metrics/classification.py:1143: UndefinedMetricWarning: Precision and F-score are ill-defined and being set to 0.0 in labels with no predicted samples.\n",
            "  'precision', 'predicted', average, warn_for)\n"
          ],
          "name": "stderr"
        }
      ]
    },
    {
      "metadata": {
        "id": "b3MQecvYcwml",
        "colab_type": "code",
        "colab": {}
      },
      "cell_type": "code",
      "source": [
        "filename = 'gender_keras_model.sav'\n",
        "pickle.dump(network, open(filename, 'wb'))"
      ],
      "execution_count": 0,
      "outputs": []
    },
    {
      "metadata": {
        "id": "Ca7mJZx-WrCd",
        "colab_type": "code",
        "colab": {}
      },
      "cell_type": "code",
      "source": [
        "from sklearn.preprocessing import LabelEncoder\n",
        "# Fit LabelEncoder with our list of classes\n",
        "label_encoder = LabelEncoder()\n",
        "#label_encoder.fit(y_train)\n",
        "label_encoder.fit(ethn)\n",
        "\n",
        "# Encode class values as integers\n",
        "#y_train = label_encoder.transform(y_train)\n",
        "ethn = label_encoder.transform(ethn)"
      ],
      "execution_count": 0,
      "outputs": []
    },
    {
      "metadata": {
        "id": "Mz7TldQAWxgb",
        "colab_type": "code",
        "outputId": "d2af3ceb-75c0-46c7-b668-e246fc86320e",
        "colab": {
          "base_uri": "https://localhost:8080/",
          "height": 187
        }
      },
      "cell_type": "code",
      "source": [
        "X_train,X_test,y_train,y_test = train_test_split(ethn_emb_npy, ethn,test_size=0.25,random_state=91, stratify=ethn)\n",
        "\n",
        "print('train')\n",
        "print(X_train.shape)\n",
        "print(y_train.shape)\n",
        "\n",
        "print('test')\n",
        "print(X_test.shape)\n",
        "print(y_test.shape)\n",
        "\n",
        "unique, counts = np.unique(y_train, return_counts=True)\n",
        "print(np.asarray((unique, counts)).T)"
      ],
      "execution_count": 0,
      "outputs": [
        {
          "output_type": "stream",
          "text": [
            "train\n",
            "(7827, 128)\n",
            "(7827,)\n",
            "test\n",
            "(2609, 128)\n",
            "(2609,)\n",
            "[[   0  614]\n",
            " [   1  337]\n",
            " [   2  131]\n",
            " [   3 6745]]\n"
          ],
          "name": "stdout"
        }
      ]
    },
    {
      "metadata": {
        "id": "fxIaRMfNXTY8",
        "colab_type": "code",
        "colab": {}
      },
      "cell_type": "code",
      "source": [
        "y_train = to_categorical(y_train)\n",
        "y_test = to_categorical(y_test)\n"
      ],
      "execution_count": 0,
      "outputs": []
    },
    {
      "metadata": {
        "id": "3fw6WH3RXCxB",
        "colab_type": "code",
        "outputId": "e6eea09f-a2c9-4d1d-99d3-b047034e91b5",
        "colab": {
          "base_uri": "https://localhost:8080/",
          "height": 1091
        }
      },
      "cell_type": "code",
      "source": [
        "\n",
        "#optimizers.RMSprop(lr=1e-4)\n",
        "\n",
        "hidden = 100\n",
        "\n",
        "network = models.Sequential()\n",
        "network.add(layers.Dense(hidden, use_bias='true', activation='relu', input_shape=(128,)))\n",
        "network.add(layers.Dense(4, use_bias='true', activation='softmax'))\n",
        "\n",
        "keras.initializers.RandomNormal(mean=0.0, stddev=0.05)\n",
        "\n",
        "#keras.optimizers.SGD(lr=0.001, momentum=0.0, decay=0.0, nesterov=False)\n",
        "\n",
        "network.compile(optimizer=keras.optimizers.Adam(lr=0.001, beta_1=0.9, beta_2=0.999, epsilon=None, decay=0.0, amsgrad=False),\n",
        "                loss='categorical_crossentropy',\n",
        "                metrics=['accuracy'])\n",
        "\n",
        "network.fit(X_train, y_train, epochs=30, batch_size=50, validation_split=0.25)"
      ],
      "execution_count": 0,
      "outputs": [
        {
          "output_type": "stream",
          "text": [
            "Train on 5870 samples, validate on 1957 samples\n",
            "Epoch 1/30\n",
            "5870/5870 [==============================] - 1s 166us/step - loss: 0.5302 - acc: 0.8463 - val_loss: 0.3914 - val_acc: 0.8498\n",
            "Epoch 2/30\n",
            "5870/5870 [==============================] - 0s 78us/step - loss: 0.2839 - acc: 0.9032 - val_loss: 0.2627 - val_acc: 0.9244\n",
            "Epoch 3/30\n",
            "5870/5870 [==============================] - 0s 84us/step - loss: 0.2082 - acc: 0.9474 - val_loss: 0.2230 - val_acc: 0.9397\n",
            "Epoch 4/30\n",
            "5870/5870 [==============================] - 1s 88us/step - loss: 0.1849 - acc: 0.9514 - val_loss: 0.2060 - val_acc: 0.9433\n",
            "Epoch 5/30\n",
            "5870/5870 [==============================] - 1s 94us/step - loss: 0.1760 - acc: 0.9526 - val_loss: 0.1984 - val_acc: 0.9443\n",
            "Epoch 6/30\n",
            "5870/5870 [==============================] - 1s 91us/step - loss: 0.1702 - acc: 0.9523 - val_loss: 0.1941 - val_acc: 0.9448\n",
            "Epoch 7/30\n",
            "5870/5870 [==============================] - 1s 93us/step - loss: 0.1664 - acc: 0.9532 - val_loss: 0.1932 - val_acc: 0.9438\n",
            "Epoch 8/30\n",
            "5870/5870 [==============================] - 1s 92us/step - loss: 0.1622 - acc: 0.9537 - val_loss: 0.1899 - val_acc: 0.9428\n",
            "Epoch 9/30\n",
            "5870/5870 [==============================] - 1s 88us/step - loss: 0.1602 - acc: 0.9547 - val_loss: 0.1905 - val_acc: 0.9433\n",
            "Epoch 10/30\n",
            "5870/5870 [==============================] - 1s 91us/step - loss: 0.1580 - acc: 0.9543 - val_loss: 0.1832 - val_acc: 0.9453\n",
            "Epoch 11/30\n",
            "5870/5870 [==============================] - 1s 90us/step - loss: 0.1564 - acc: 0.9542 - val_loss: 0.1818 - val_acc: 0.9463\n",
            "Epoch 12/30\n",
            "5870/5870 [==============================] - 1s 93us/step - loss: 0.1540 - acc: 0.9564 - val_loss: 0.1820 - val_acc: 0.9453\n",
            "Epoch 13/30\n",
            "5870/5870 [==============================] - 1s 90us/step - loss: 0.1513 - acc: 0.9559 - val_loss: 0.1812 - val_acc: 0.9453\n",
            "Epoch 14/30\n",
            "5870/5870 [==============================] - 1s 93us/step - loss: 0.1509 - acc: 0.9566 - val_loss: 0.1822 - val_acc: 0.9443\n",
            "Epoch 15/30\n",
            "5870/5870 [==============================] - 1s 91us/step - loss: 0.1498 - acc: 0.9574 - val_loss: 0.1842 - val_acc: 0.9438\n",
            "Epoch 16/30\n",
            "5870/5870 [==============================] - 1s 93us/step - loss: 0.1489 - acc: 0.9572 - val_loss: 0.1781 - val_acc: 0.9494\n",
            "Epoch 17/30\n",
            "5870/5870 [==============================] - 1s 89us/step - loss: 0.1467 - acc: 0.9574 - val_loss: 0.1791 - val_acc: 0.9463\n",
            "Epoch 18/30\n",
            "5870/5870 [==============================] - 1s 91us/step - loss: 0.1467 - acc: 0.9571 - val_loss: 0.1777 - val_acc: 0.9474\n",
            "Epoch 19/30\n",
            "5870/5870 [==============================] - 1s 91us/step - loss: 0.1464 - acc: 0.9569 - val_loss: 0.1796 - val_acc: 0.9443\n",
            "Epoch 20/30\n",
            "5870/5870 [==============================] - 1s 92us/step - loss: 0.1445 - acc: 0.9578 - val_loss: 0.1769 - val_acc: 0.9499\n",
            "Epoch 21/30\n",
            "5870/5870 [==============================] - 1s 89us/step - loss: 0.1441 - acc: 0.9566 - val_loss: 0.1831 - val_acc: 0.9458\n",
            "Epoch 22/30\n",
            "5870/5870 [==============================] - 1s 91us/step - loss: 0.1445 - acc: 0.9572 - val_loss: 0.1759 - val_acc: 0.9458\n",
            "Epoch 23/30\n",
            "5870/5870 [==============================] - 1s 89us/step - loss: 0.1421 - acc: 0.9593 - val_loss: 0.1757 - val_acc: 0.9474\n",
            "Epoch 24/30\n",
            "5870/5870 [==============================] - 1s 92us/step - loss: 0.1441 - acc: 0.9586 - val_loss: 0.1753 - val_acc: 0.9494\n",
            "Epoch 25/30\n",
            "5870/5870 [==============================] - 1s 93us/step - loss: 0.1418 - acc: 0.9588 - val_loss: 0.1779 - val_acc: 0.9479\n",
            "Epoch 26/30\n",
            "5870/5870 [==============================] - 1s 95us/step - loss: 0.1398 - acc: 0.9595 - val_loss: 0.1745 - val_acc: 0.9479\n",
            "Epoch 27/30\n",
            "5870/5870 [==============================] - 1s 104us/step - loss: 0.1406 - acc: 0.9591 - val_loss: 0.1823 - val_acc: 0.9463\n",
            "Epoch 28/30\n",
            "5870/5870 [==============================] - 1s 100us/step - loss: 0.1405 - acc: 0.9589 - val_loss: 0.1753 - val_acc: 0.9463\n",
            "Epoch 29/30\n",
            "5870/5870 [==============================] - 1s 94us/step - loss: 0.1386 - acc: 0.9588 - val_loss: 0.1724 - val_acc: 0.9484\n",
            "Epoch 30/30\n",
            "5870/5870 [==============================] - 1s 92us/step - loss: 0.1371 - acc: 0.9588 - val_loss: 0.1739 - val_acc: 0.9484\n"
          ],
          "name": "stdout"
        },
        {
          "output_type": "execute_result",
          "data": {
            "text/plain": [
              "<keras.callbacks.History at 0x7fe6ad992dd8>"
            ]
          },
          "metadata": {
            "tags": []
          },
          "execution_count": 45
        }
      ]
    },
    {
      "metadata": {
        "id": "oPgXT1rQYBM8",
        "colab_type": "code",
        "outputId": "cb05bec4-1420-4f61-e3db-413b45f12bb2",
        "colab": {
          "base_uri": "https://localhost:8080/",
          "height": 592
        }
      },
      "cell_type": "code",
      "source": [
        "y_pred = network.predict(X_test)\n",
        "y_pred = (y_pred > 0.5)\n",
        "print(\"{:.3}\".format(accuracy_score(y_test, y_pred)))\n",
        "\n",
        "print(classification_report(y_test,y_pred))\n",
        "\n",
        "print(confusion_matrix(y_test,y_pred))"
      ],
      "execution_count": 0,
      "outputs": [
        {
          "output_type": "stream",
          "text": [
            "0.951\n",
            "              precision    recall  f1-score   support\n",
            "\n",
            "           0       0.90      0.82      0.86       205\n",
            "           1       0.89      0.83      0.86       112\n",
            "           2       0.57      0.27      0.37        44\n",
            "           3       0.97      0.98      0.98      2248\n",
            "\n",
            "   micro avg       0.96      0.95      0.96      2609\n",
            "   macro avg       0.83      0.73      0.77      2609\n",
            "weighted avg       0.96      0.95      0.95      2609\n",
            " samples avg       0.95      0.95      0.95      2609\n",
            "\n"
          ],
          "name": "stdout"
        },
        {
          "output_type": "stream",
          "text": [
            "/usr/local/lib/python3.6/dist-packages/sklearn/metrics/classification.py:1143: UndefinedMetricWarning: Precision and F-score are ill-defined and being set to 0.0 in samples with no predicted labels.\n",
            "  'precision', 'predicted', average, warn_for)\n"
          ],
          "name": "stderr"
        },
        {
          "output_type": "error",
          "ename": "ValueError",
          "evalue": "ignored",
          "traceback": [
            "\u001b[0;31m---------------------------------------------------------------------------\u001b[0m",
            "\u001b[0;31mValueError\u001b[0m                                Traceback (most recent call last)",
            "\u001b[0;32m<ipython-input-48-a5bf8cc2f553>\u001b[0m in \u001b[0;36m<module>\u001b[0;34m()\u001b[0m\n\u001b[1;32m      5\u001b[0m \u001b[0mprint\u001b[0m\u001b[0;34m(\u001b[0m\u001b[0mclassification_report\u001b[0m\u001b[0;34m(\u001b[0m\u001b[0my_test\u001b[0m\u001b[0;34m,\u001b[0m\u001b[0my_pred\u001b[0m\u001b[0;34m)\u001b[0m\u001b[0;34m)\u001b[0m\u001b[0;34m\u001b[0m\u001b[0;34m\u001b[0m\u001b[0m\n\u001b[1;32m      6\u001b[0m \u001b[0;34m\u001b[0m\u001b[0m\n\u001b[0;32m----> 7\u001b[0;31m \u001b[0mprint\u001b[0m\u001b[0;34m(\u001b[0m\u001b[0mconfusion_matrix\u001b[0m\u001b[0;34m(\u001b[0m\u001b[0my_test\u001b[0m\u001b[0;34m,\u001b[0m\u001b[0my_pred\u001b[0m\u001b[0;34m)\u001b[0m\u001b[0;34m)\u001b[0m\u001b[0;34m\u001b[0m\u001b[0;34m\u001b[0m\u001b[0m\n\u001b[0m",
            "\u001b[0;32m/usr/local/lib/python3.6/dist-packages/sklearn/metrics/classification.py\u001b[0m in \u001b[0;36mconfusion_matrix\u001b[0;34m(y_true, y_pred, labels, sample_weight)\u001b[0m\n\u001b[1;32m    253\u001b[0m     \u001b[0my_type\u001b[0m\u001b[0;34m,\u001b[0m \u001b[0my_true\u001b[0m\u001b[0;34m,\u001b[0m \u001b[0my_pred\u001b[0m \u001b[0;34m=\u001b[0m \u001b[0m_check_targets\u001b[0m\u001b[0;34m(\u001b[0m\u001b[0my_true\u001b[0m\u001b[0;34m,\u001b[0m \u001b[0my_pred\u001b[0m\u001b[0;34m)\u001b[0m\u001b[0;34m\u001b[0m\u001b[0;34m\u001b[0m\u001b[0m\n\u001b[1;32m    254\u001b[0m     \u001b[0;32mif\u001b[0m \u001b[0my_type\u001b[0m \u001b[0;32mnot\u001b[0m \u001b[0;32min\u001b[0m \u001b[0;34m(\u001b[0m\u001b[0;34m\"binary\"\u001b[0m\u001b[0;34m,\u001b[0m \u001b[0;34m\"multiclass\"\u001b[0m\u001b[0;34m)\u001b[0m\u001b[0;34m:\u001b[0m\u001b[0;34m\u001b[0m\u001b[0;34m\u001b[0m\u001b[0m\n\u001b[0;32m--> 255\u001b[0;31m         \u001b[0;32mraise\u001b[0m \u001b[0mValueError\u001b[0m\u001b[0;34m(\u001b[0m\u001b[0;34m\"%s is not supported\"\u001b[0m \u001b[0;34m%\u001b[0m \u001b[0my_type\u001b[0m\u001b[0;34m)\u001b[0m\u001b[0;34m\u001b[0m\u001b[0;34m\u001b[0m\u001b[0m\n\u001b[0m\u001b[1;32m    256\u001b[0m \u001b[0;34m\u001b[0m\u001b[0m\n\u001b[1;32m    257\u001b[0m     \u001b[0;32mif\u001b[0m \u001b[0mlabels\u001b[0m \u001b[0;32mis\u001b[0m \u001b[0;32mNone\u001b[0m\u001b[0;34m:\u001b[0m\u001b[0;34m\u001b[0m\u001b[0;34m\u001b[0m\u001b[0m\n",
            "\u001b[0;31mValueError\u001b[0m: multilabel-indicator is not supported"
          ]
        }
      ]
    }
  ]
}